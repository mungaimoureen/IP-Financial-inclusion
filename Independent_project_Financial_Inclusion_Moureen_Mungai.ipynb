{
  "nbformat": 4,
  "nbformat_minor": 0,
  "metadata": {
    "colab": {
      "name": "Independent project Financial Inclusion Moureen Mungai",
      "provenance": [],
      "collapsed_sections": [],
      "toc_visible": true,
      "include_colab_link": true
    },
    "kernelspec": {
      "name": "python3",
      "display_name": "Python 3"
    }
  },
  "cells": [
    {
      "cell_type": "markdown",
      "metadata": {
        "id": "view-in-github",
        "colab_type": "text"
      },
      "source": [
        "<a href=\"https://colab.research.google.com/github/mungaimoureen/IP-Financial-inclusion/blob/main/Independent_project_Financial_Inclusion_Moureen_Mungai.ipynb\" target=\"_parent\"><img src=\"https://colab.research.google.com/assets/colab-badge.svg\" alt=\"Open In Colab\"/></a>"
      ]
    },
    {
      "cell_type": "markdown",
      "metadata": {
        "id": "EofOKH3gA610"
      },
      "source": [
        "\n",
        "# Defining the Research Questions\n"
      ]
    },
    {
      "cell_type": "markdown",
      "metadata": {
        "id": "el36QpkHHljD"
      },
      "source": [
        "> We are going to predict what individuals are most likely to have or use a bank account.\n"
      ]
    },
    {
      "cell_type": "markdown",
      "metadata": {
        "id": "SoAkrW61CLVD"
      },
      "source": [
        "# Defining the Metric for Success"
      ]
    },
    {
      "cell_type": "markdown",
      "metadata": {
        "id": "xh9CqvrwH79X"
      },
      "source": [
        ">The success of this project is hinged on the fact that we are able to conduct univariate and multivariate analysis that will give insights to predict what people are most likely to have and use a bank account."
      ]
    },
    {
      "cell_type": "markdown",
      "metadata": {
        "id": "XJz9fLDzCULx"
      },
      "source": [
        "# Understanding the Research Context"
      ]
    },
    {
      "cell_type": "markdown",
      "metadata": {
        "id": "5cfjvc-KJNZp"
      },
      "source": [
        ">Financial inclusion means that individuals and businesses have access to useful and affordable financial products and services(central bank,2022). Financial products and services are numerous. However having a bank account opens you up to financial possibilities not only for your day to day operations but also when in need in times of emergency and also funding your future through your savings.\n",
        "Therefore when we conduct this analysis we are a step closer to establish financial inclusion when we determine the metrics that qualify you to have a bank and use account. "
      ]
    },
    {
      "cell_type": "markdown",
      "metadata": {
        "id": "1WgkRNItCbE6"
      },
      "source": [
        "# The Experimental Design"
      ]
    },
    {
      "cell_type": "markdown",
      "metadata": {
        "id": "0s_k-hRuNYFt"
      },
      "source": [
        "> Steps.\n",
        "\n",
        "\n",
        ">*   Load data and preview the data sets\n",
        ">*   Data Cleaning, outliers anomalies...\n",
        ">*   Univariate Analysis\n",
        ">*   Bivariate Analysis\n",
        ">*   Multivariate Analysis\n",
        ">*   Implementing the Solution\n",
        ">*   Challenging the Solution \n",
        "\n"
      ]
    },
    {
      "cell_type": "markdown",
      "metadata": {
        "id": "Z5Jr7cItCheF"
      },
      "source": [
        "# Data Relevance"
      ]
    },
    {
      "cell_type": "markdown",
      "metadata": {
        "id": "0MpcmX1B354H"
      },
      "source": [
        ">We are using dataset from the fintech surveys conducted between 2016 and 2018 for East African countries on Age, Marital status, Gender, Occupation, Owneship of bank accounts. All these field give relevance to the data for they are key factors and characteristics to reduce a prediction for one to have an account."
      ]
    },
    {
      "cell_type": "markdown",
      "metadata": {
        "id": "QbszzcSUCoZL"
      },
      "source": [
        "# Reading the Data"
      ]
    },
    {
      "cell_type": "code",
      "metadata": {
        "id": "2OwBDekZ6dYU"
      },
      "source": [
        "# Importing relevant python libraries\n",
        "\n",
        "import pandas as pd\n",
        "import numpy as np\n",
        "import seaborn as sns\n",
        "import matplotlib.pyplot as plt"
      ],
      "execution_count": 77,
      "outputs": []
    },
    {
      "cell_type": "code",
      "metadata": {
        "id": "zrmhItXb7mPt",
        "colab": {
          "base_uri": "https://localhost:8080/",
          "height": 676
        },
        "outputId": "3b4780c1-1106-40c3-8259-0f607b2cec56"
      },
      "source": [
        "# Loading the data from the source (csv file)\n",
        "\n",
        "#Dataset Url: http://bit.ly/FinancialDataset\n",
        "\n",
        "bank = pd.read_csv('http://bit.ly/FinancialDataset')\n",
        "bank"
      ],
      "execution_count": 78,
      "outputs": [
        {
          "output_type": "execute_result",
          "data": {
            "text/plain": [
              "      country  year       uniqueid Has a Bank account Type of Location  \\\n",
              "0       Kenya  2018     uniqueid_1                Yes            Rural   \n",
              "1       Kenya  2018     uniqueid_2                 No            Rural   \n",
              "2       Kenya  2018     uniqueid_3                Yes            Urban   \n",
              "3       Kenya  2018     uniqueid_4                 No            Rural   \n",
              "4       Kenya  2018     uniqueid_5                 No            Urban   \n",
              "...       ...   ...            ...                ...              ...   \n",
              "23519  Uganda  2018  uniqueid_2113                 No            Rural   \n",
              "23520  Uganda  2018  uniqueid_2114                 No            Rural   \n",
              "23521  Uganda  2018  uniqueid_2115                 No            Rural   \n",
              "23522  Uganda  2018  uniqueid_2116                 No            Urban   \n",
              "23523  Uganda  2018  uniqueid_2117                 No            Rural   \n",
              "\n",
              "      Cell Phone Access  household_size  Respondent Age gender_of_respondent  \\\n",
              "0                   Yes             3.0            24.0               Female   \n",
              "1                    No             5.0            70.0               Female   \n",
              "2                   Yes             5.0            26.0                 Male   \n",
              "3                   Yes             5.0            34.0               Female   \n",
              "4                    No             8.0            26.0                 Male   \n",
              "...                 ...             ...             ...                  ...   \n",
              "23519               Yes             4.0            48.0               Female   \n",
              "23520               Yes             2.0            27.0               Female   \n",
              "23521               Yes             5.0            27.0               Female   \n",
              "23522               Yes             7.0            30.0               Female   \n",
              "23523               Yes            10.0            20.0                 Male   \n",
              "\n",
              "      The relathip with head           marital_status  \\\n",
              "0                     Spouse  Married/Living together   \n",
              "1          Head of Household                  Widowed   \n",
              "2             Other relative     Single/Never Married   \n",
              "3          Head of Household  Married/Living together   \n",
              "4                      Child     Single/Never Married   \n",
              "...                      ...                      ...   \n",
              "23519      Head of Household       Divorced/Seperated   \n",
              "23520      Head of Household     Single/Never Married   \n",
              "23521                 Parent                  Widowed   \n",
              "23522                 Parent       Divorced/Seperated   \n",
              "23523                  Child     Single/Never Married   \n",
              "\n",
              "                   Level of Educuation                Type of Job  \n",
              "0                  Secondary education              Self employed  \n",
              "1                  No formal education       Government Dependent  \n",
              "2      Vocational/Specialised training              Self employed  \n",
              "3                    Primary education  Formally employed Private  \n",
              "4                    Primary education        Informally employed  \n",
              "...                                ...                        ...  \n",
              "23519              No formal education               Other Income  \n",
              "23520              Secondary education               Other Income  \n",
              "23521                Primary education               Other Income  \n",
              "23522              Secondary education              Self employed  \n",
              "23523              Secondary education                  No Income  \n",
              "\n",
              "[23524 rows x 13 columns]"
            ],
            "text/html": [
              "\n",
              "  <div id=\"df-88a9119f-40e0-44e4-9cb6-01c887fd5469\">\n",
              "    <div class=\"colab-df-container\">\n",
              "      <div>\n",
              "<style scoped>\n",
              "    .dataframe tbody tr th:only-of-type {\n",
              "        vertical-align: middle;\n",
              "    }\n",
              "\n",
              "    .dataframe tbody tr th {\n",
              "        vertical-align: top;\n",
              "    }\n",
              "\n",
              "    .dataframe thead th {\n",
              "        text-align: right;\n",
              "    }\n",
              "</style>\n",
              "<table border=\"1\" class=\"dataframe\">\n",
              "  <thead>\n",
              "    <tr style=\"text-align: right;\">\n",
              "      <th></th>\n",
              "      <th>country</th>\n",
              "      <th>year</th>\n",
              "      <th>uniqueid</th>\n",
              "      <th>Has a Bank account</th>\n",
              "      <th>Type of Location</th>\n",
              "      <th>Cell Phone Access</th>\n",
              "      <th>household_size</th>\n",
              "      <th>Respondent Age</th>\n",
              "      <th>gender_of_respondent</th>\n",
              "      <th>The relathip with head</th>\n",
              "      <th>marital_status</th>\n",
              "      <th>Level of Educuation</th>\n",
              "      <th>Type of Job</th>\n",
              "    </tr>\n",
              "  </thead>\n",
              "  <tbody>\n",
              "    <tr>\n",
              "      <th>0</th>\n",
              "      <td>Kenya</td>\n",
              "      <td>2018</td>\n",
              "      <td>uniqueid_1</td>\n",
              "      <td>Yes</td>\n",
              "      <td>Rural</td>\n",
              "      <td>Yes</td>\n",
              "      <td>3.0</td>\n",
              "      <td>24.0</td>\n",
              "      <td>Female</td>\n",
              "      <td>Spouse</td>\n",
              "      <td>Married/Living together</td>\n",
              "      <td>Secondary education</td>\n",
              "      <td>Self employed</td>\n",
              "    </tr>\n",
              "    <tr>\n",
              "      <th>1</th>\n",
              "      <td>Kenya</td>\n",
              "      <td>2018</td>\n",
              "      <td>uniqueid_2</td>\n",
              "      <td>No</td>\n",
              "      <td>Rural</td>\n",
              "      <td>No</td>\n",
              "      <td>5.0</td>\n",
              "      <td>70.0</td>\n",
              "      <td>Female</td>\n",
              "      <td>Head of Household</td>\n",
              "      <td>Widowed</td>\n",
              "      <td>No formal education</td>\n",
              "      <td>Government Dependent</td>\n",
              "    </tr>\n",
              "    <tr>\n",
              "      <th>2</th>\n",
              "      <td>Kenya</td>\n",
              "      <td>2018</td>\n",
              "      <td>uniqueid_3</td>\n",
              "      <td>Yes</td>\n",
              "      <td>Urban</td>\n",
              "      <td>Yes</td>\n",
              "      <td>5.0</td>\n",
              "      <td>26.0</td>\n",
              "      <td>Male</td>\n",
              "      <td>Other relative</td>\n",
              "      <td>Single/Never Married</td>\n",
              "      <td>Vocational/Specialised training</td>\n",
              "      <td>Self employed</td>\n",
              "    </tr>\n",
              "    <tr>\n",
              "      <th>3</th>\n",
              "      <td>Kenya</td>\n",
              "      <td>2018</td>\n",
              "      <td>uniqueid_4</td>\n",
              "      <td>No</td>\n",
              "      <td>Rural</td>\n",
              "      <td>Yes</td>\n",
              "      <td>5.0</td>\n",
              "      <td>34.0</td>\n",
              "      <td>Female</td>\n",
              "      <td>Head of Household</td>\n",
              "      <td>Married/Living together</td>\n",
              "      <td>Primary education</td>\n",
              "      <td>Formally employed Private</td>\n",
              "    </tr>\n",
              "    <tr>\n",
              "      <th>4</th>\n",
              "      <td>Kenya</td>\n",
              "      <td>2018</td>\n",
              "      <td>uniqueid_5</td>\n",
              "      <td>No</td>\n",
              "      <td>Urban</td>\n",
              "      <td>No</td>\n",
              "      <td>8.0</td>\n",
              "      <td>26.0</td>\n",
              "      <td>Male</td>\n",
              "      <td>Child</td>\n",
              "      <td>Single/Never Married</td>\n",
              "      <td>Primary education</td>\n",
              "      <td>Informally employed</td>\n",
              "    </tr>\n",
              "    <tr>\n",
              "      <th>...</th>\n",
              "      <td>...</td>\n",
              "      <td>...</td>\n",
              "      <td>...</td>\n",
              "      <td>...</td>\n",
              "      <td>...</td>\n",
              "      <td>...</td>\n",
              "      <td>...</td>\n",
              "      <td>...</td>\n",
              "      <td>...</td>\n",
              "      <td>...</td>\n",
              "      <td>...</td>\n",
              "      <td>...</td>\n",
              "      <td>...</td>\n",
              "    </tr>\n",
              "    <tr>\n",
              "      <th>23519</th>\n",
              "      <td>Uganda</td>\n",
              "      <td>2018</td>\n",
              "      <td>uniqueid_2113</td>\n",
              "      <td>No</td>\n",
              "      <td>Rural</td>\n",
              "      <td>Yes</td>\n",
              "      <td>4.0</td>\n",
              "      <td>48.0</td>\n",
              "      <td>Female</td>\n",
              "      <td>Head of Household</td>\n",
              "      <td>Divorced/Seperated</td>\n",
              "      <td>No formal education</td>\n",
              "      <td>Other Income</td>\n",
              "    </tr>\n",
              "    <tr>\n",
              "      <th>23520</th>\n",
              "      <td>Uganda</td>\n",
              "      <td>2018</td>\n",
              "      <td>uniqueid_2114</td>\n",
              "      <td>No</td>\n",
              "      <td>Rural</td>\n",
              "      <td>Yes</td>\n",
              "      <td>2.0</td>\n",
              "      <td>27.0</td>\n",
              "      <td>Female</td>\n",
              "      <td>Head of Household</td>\n",
              "      <td>Single/Never Married</td>\n",
              "      <td>Secondary education</td>\n",
              "      <td>Other Income</td>\n",
              "    </tr>\n",
              "    <tr>\n",
              "      <th>23521</th>\n",
              "      <td>Uganda</td>\n",
              "      <td>2018</td>\n",
              "      <td>uniqueid_2115</td>\n",
              "      <td>No</td>\n",
              "      <td>Rural</td>\n",
              "      <td>Yes</td>\n",
              "      <td>5.0</td>\n",
              "      <td>27.0</td>\n",
              "      <td>Female</td>\n",
              "      <td>Parent</td>\n",
              "      <td>Widowed</td>\n",
              "      <td>Primary education</td>\n",
              "      <td>Other Income</td>\n",
              "    </tr>\n",
              "    <tr>\n",
              "      <th>23522</th>\n",
              "      <td>Uganda</td>\n",
              "      <td>2018</td>\n",
              "      <td>uniqueid_2116</td>\n",
              "      <td>No</td>\n",
              "      <td>Urban</td>\n",
              "      <td>Yes</td>\n",
              "      <td>7.0</td>\n",
              "      <td>30.0</td>\n",
              "      <td>Female</td>\n",
              "      <td>Parent</td>\n",
              "      <td>Divorced/Seperated</td>\n",
              "      <td>Secondary education</td>\n",
              "      <td>Self employed</td>\n",
              "    </tr>\n",
              "    <tr>\n",
              "      <th>23523</th>\n",
              "      <td>Uganda</td>\n",
              "      <td>2018</td>\n",
              "      <td>uniqueid_2117</td>\n",
              "      <td>No</td>\n",
              "      <td>Rural</td>\n",
              "      <td>Yes</td>\n",
              "      <td>10.0</td>\n",
              "      <td>20.0</td>\n",
              "      <td>Male</td>\n",
              "      <td>Child</td>\n",
              "      <td>Single/Never Married</td>\n",
              "      <td>Secondary education</td>\n",
              "      <td>No Income</td>\n",
              "    </tr>\n",
              "  </tbody>\n",
              "</table>\n",
              "<p>23524 rows × 13 columns</p>\n",
              "</div>\n",
              "      <button class=\"colab-df-convert\" onclick=\"convertToInteractive('df-88a9119f-40e0-44e4-9cb6-01c887fd5469')\"\n",
              "              title=\"Convert this dataframe to an interactive table.\"\n",
              "              style=\"display:none;\">\n",
              "        \n",
              "  <svg xmlns=\"http://www.w3.org/2000/svg\" height=\"24px\"viewBox=\"0 0 24 24\"\n",
              "       width=\"24px\">\n",
              "    <path d=\"M0 0h24v24H0V0z\" fill=\"none\"/>\n",
              "    <path d=\"M18.56 5.44l.94 2.06.94-2.06 2.06-.94-2.06-.94-.94-2.06-.94 2.06-2.06.94zm-11 1L8.5 8.5l.94-2.06 2.06-.94-2.06-.94L8.5 2.5l-.94 2.06-2.06.94zm10 10l.94 2.06.94-2.06 2.06-.94-2.06-.94-.94-2.06-.94 2.06-2.06.94z\"/><path d=\"M17.41 7.96l-1.37-1.37c-.4-.4-.92-.59-1.43-.59-.52 0-1.04.2-1.43.59L10.3 9.45l-7.72 7.72c-.78.78-.78 2.05 0 2.83L4 21.41c.39.39.9.59 1.41.59.51 0 1.02-.2 1.41-.59l7.78-7.78 2.81-2.81c.8-.78.8-2.07 0-2.86zM5.41 20L4 18.59l7.72-7.72 1.47 1.35L5.41 20z\"/>\n",
              "  </svg>\n",
              "      </button>\n",
              "      \n",
              "  <style>\n",
              "    .colab-df-container {\n",
              "      display:flex;\n",
              "      flex-wrap:wrap;\n",
              "      gap: 12px;\n",
              "    }\n",
              "\n",
              "    .colab-df-convert {\n",
              "      background-color: #E8F0FE;\n",
              "      border: none;\n",
              "      border-radius: 50%;\n",
              "      cursor: pointer;\n",
              "      display: none;\n",
              "      fill: #1967D2;\n",
              "      height: 32px;\n",
              "      padding: 0 0 0 0;\n",
              "      width: 32px;\n",
              "    }\n",
              "\n",
              "    .colab-df-convert:hover {\n",
              "      background-color: #E2EBFA;\n",
              "      box-shadow: 0px 1px 2px rgba(60, 64, 67, 0.3), 0px 1px 3px 1px rgba(60, 64, 67, 0.15);\n",
              "      fill: #174EA6;\n",
              "    }\n",
              "\n",
              "    [theme=dark] .colab-df-convert {\n",
              "      background-color: #3B4455;\n",
              "      fill: #D2E3FC;\n",
              "    }\n",
              "\n",
              "    [theme=dark] .colab-df-convert:hover {\n",
              "      background-color: #434B5C;\n",
              "      box-shadow: 0px 1px 3px 1px rgba(0, 0, 0, 0.15);\n",
              "      filter: drop-shadow(0px 1px 2px rgba(0, 0, 0, 0.3));\n",
              "      fill: #FFFFFF;\n",
              "    }\n",
              "  </style>\n",
              "\n",
              "      <script>\n",
              "        const buttonEl =\n",
              "          document.querySelector('#df-88a9119f-40e0-44e4-9cb6-01c887fd5469 button.colab-df-convert');\n",
              "        buttonEl.style.display =\n",
              "          google.colab.kernel.accessAllowed ? 'block' : 'none';\n",
              "\n",
              "        async function convertToInteractive(key) {\n",
              "          const element = document.querySelector('#df-88a9119f-40e0-44e4-9cb6-01c887fd5469');\n",
              "          const dataTable =\n",
              "            await google.colab.kernel.invokeFunction('convertToInteractive',\n",
              "                                                     [key], {});\n",
              "          if (!dataTable) return;\n",
              "\n",
              "          const docLinkHtml = 'Like what you see? Visit the ' +\n",
              "            '<a target=\"_blank\" href=https://colab.research.google.com/notebooks/data_table.ipynb>data table notebook</a>'\n",
              "            + ' to learn more about interactive tables.';\n",
              "          element.innerHTML = '';\n",
              "          dataTable['output_type'] = 'display_data';\n",
              "          await google.colab.output.renderOutput(dataTable, element);\n",
              "          const docLink = document.createElement('div');\n",
              "          docLink.innerHTML = docLinkHtml;\n",
              "          element.appendChild(docLink);\n",
              "        }\n",
              "      </script>\n",
              "    </div>\n",
              "  </div>\n",
              "  "
            ]
          },
          "metadata": {},
          "execution_count": 78
        }
      ]
    },
    {
      "cell_type": "markdown",
      "metadata": {
        "id": "EHLClaEICzAk"
      },
      "source": [
        "# Checking the Data"
      ]
    },
    {
      "cell_type": "code",
      "metadata": {
        "id": "NdqHbC9w8XkE",
        "colab": {
          "base_uri": "https://localhost:8080/",
          "height": 389
        },
        "outputId": "28c9a624-be97-4325-9dec-0fad6f4d6517"
      },
      "source": [
        "# Previewing the top of the dataset\n",
        "\n",
        "bank.head()"
      ],
      "execution_count": 75,
      "outputs": [
        {
          "output_type": "execute_result",
          "data": {
            "text/plain": [
              "  country  year    uniqueid Has a Bank account Type of Location  \\\n",
              "0   Kenya  2018  uniqueid_1                Yes            Rural   \n",
              "1   Kenya  2018  uniqueid_2                 No            Rural   \n",
              "2   Kenya  2018  uniqueid_3                Yes            Urban   \n",
              "3   Kenya  2018  uniqueid_4                 No            Rural   \n",
              "4   Kenya  2018  uniqueid_5                 No            Urban   \n",
              "\n",
              "  Cell Phone Access  household_size  Respondent Age gender_of_respondent  \\\n",
              "0               Yes             3.0            24.0               Female   \n",
              "1                No             5.0            70.0               Female   \n",
              "2               Yes             5.0            26.0                 Male   \n",
              "3               Yes             5.0            34.0               Female   \n",
              "4                No             8.0            26.0                 Male   \n",
              "\n",
              "  The relathip with head           marital_status  \\\n",
              "0                 Spouse  Married/Living together   \n",
              "1      Head of Household                  Widowed   \n",
              "2         Other relative     Single/Never Married   \n",
              "3      Head of Household  Married/Living together   \n",
              "4                  Child     Single/Never Married   \n",
              "\n",
              "               Level of Educuation                Type of Job  \n",
              "0              Secondary education              Self employed  \n",
              "1              No formal education       Government Dependent  \n",
              "2  Vocational/Specialised training              Self employed  \n",
              "3                Primary education  Formally employed Private  \n",
              "4                Primary education        Informally employed  "
            ],
            "text/html": [
              "\n",
              "  <div id=\"df-4687e4fb-b3b2-4748-8801-3dd5fdd0c6a2\">\n",
              "    <div class=\"colab-df-container\">\n",
              "      <div>\n",
              "<style scoped>\n",
              "    .dataframe tbody tr th:only-of-type {\n",
              "        vertical-align: middle;\n",
              "    }\n",
              "\n",
              "    .dataframe tbody tr th {\n",
              "        vertical-align: top;\n",
              "    }\n",
              "\n",
              "    .dataframe thead th {\n",
              "        text-align: right;\n",
              "    }\n",
              "</style>\n",
              "<table border=\"1\" class=\"dataframe\">\n",
              "  <thead>\n",
              "    <tr style=\"text-align: right;\">\n",
              "      <th></th>\n",
              "      <th>country</th>\n",
              "      <th>year</th>\n",
              "      <th>uniqueid</th>\n",
              "      <th>Has a Bank account</th>\n",
              "      <th>Type of Location</th>\n",
              "      <th>Cell Phone Access</th>\n",
              "      <th>household_size</th>\n",
              "      <th>Respondent Age</th>\n",
              "      <th>gender_of_respondent</th>\n",
              "      <th>The relathip with head</th>\n",
              "      <th>marital_status</th>\n",
              "      <th>Level of Educuation</th>\n",
              "      <th>Type of Job</th>\n",
              "    </tr>\n",
              "  </thead>\n",
              "  <tbody>\n",
              "    <tr>\n",
              "      <th>0</th>\n",
              "      <td>Kenya</td>\n",
              "      <td>2018</td>\n",
              "      <td>uniqueid_1</td>\n",
              "      <td>Yes</td>\n",
              "      <td>Rural</td>\n",
              "      <td>Yes</td>\n",
              "      <td>3.0</td>\n",
              "      <td>24.0</td>\n",
              "      <td>Female</td>\n",
              "      <td>Spouse</td>\n",
              "      <td>Married/Living together</td>\n",
              "      <td>Secondary education</td>\n",
              "      <td>Self employed</td>\n",
              "    </tr>\n",
              "    <tr>\n",
              "      <th>1</th>\n",
              "      <td>Kenya</td>\n",
              "      <td>2018</td>\n",
              "      <td>uniqueid_2</td>\n",
              "      <td>No</td>\n",
              "      <td>Rural</td>\n",
              "      <td>No</td>\n",
              "      <td>5.0</td>\n",
              "      <td>70.0</td>\n",
              "      <td>Female</td>\n",
              "      <td>Head of Household</td>\n",
              "      <td>Widowed</td>\n",
              "      <td>No formal education</td>\n",
              "      <td>Government Dependent</td>\n",
              "    </tr>\n",
              "    <tr>\n",
              "      <th>2</th>\n",
              "      <td>Kenya</td>\n",
              "      <td>2018</td>\n",
              "      <td>uniqueid_3</td>\n",
              "      <td>Yes</td>\n",
              "      <td>Urban</td>\n",
              "      <td>Yes</td>\n",
              "      <td>5.0</td>\n",
              "      <td>26.0</td>\n",
              "      <td>Male</td>\n",
              "      <td>Other relative</td>\n",
              "      <td>Single/Never Married</td>\n",
              "      <td>Vocational/Specialised training</td>\n",
              "      <td>Self employed</td>\n",
              "    </tr>\n",
              "    <tr>\n",
              "      <th>3</th>\n",
              "      <td>Kenya</td>\n",
              "      <td>2018</td>\n",
              "      <td>uniqueid_4</td>\n",
              "      <td>No</td>\n",
              "      <td>Rural</td>\n",
              "      <td>Yes</td>\n",
              "      <td>5.0</td>\n",
              "      <td>34.0</td>\n",
              "      <td>Female</td>\n",
              "      <td>Head of Household</td>\n",
              "      <td>Married/Living together</td>\n",
              "      <td>Primary education</td>\n",
              "      <td>Formally employed Private</td>\n",
              "    </tr>\n",
              "    <tr>\n",
              "      <th>4</th>\n",
              "      <td>Kenya</td>\n",
              "      <td>2018</td>\n",
              "      <td>uniqueid_5</td>\n",
              "      <td>No</td>\n",
              "      <td>Urban</td>\n",
              "      <td>No</td>\n",
              "      <td>8.0</td>\n",
              "      <td>26.0</td>\n",
              "      <td>Male</td>\n",
              "      <td>Child</td>\n",
              "      <td>Single/Never Married</td>\n",
              "      <td>Primary education</td>\n",
              "      <td>Informally employed</td>\n",
              "    </tr>\n",
              "  </tbody>\n",
              "</table>\n",
              "</div>\n",
              "      <button class=\"colab-df-convert\" onclick=\"convertToInteractive('df-4687e4fb-b3b2-4748-8801-3dd5fdd0c6a2')\"\n",
              "              title=\"Convert this dataframe to an interactive table.\"\n",
              "              style=\"display:none;\">\n",
              "        \n",
              "  <svg xmlns=\"http://www.w3.org/2000/svg\" height=\"24px\"viewBox=\"0 0 24 24\"\n",
              "       width=\"24px\">\n",
              "    <path d=\"M0 0h24v24H0V0z\" fill=\"none\"/>\n",
              "    <path d=\"M18.56 5.44l.94 2.06.94-2.06 2.06-.94-2.06-.94-.94-2.06-.94 2.06-2.06.94zm-11 1L8.5 8.5l.94-2.06 2.06-.94-2.06-.94L8.5 2.5l-.94 2.06-2.06.94zm10 10l.94 2.06.94-2.06 2.06-.94-2.06-.94-.94-2.06-.94 2.06-2.06.94z\"/><path d=\"M17.41 7.96l-1.37-1.37c-.4-.4-.92-.59-1.43-.59-.52 0-1.04.2-1.43.59L10.3 9.45l-7.72 7.72c-.78.78-.78 2.05 0 2.83L4 21.41c.39.39.9.59 1.41.59.51 0 1.02-.2 1.41-.59l7.78-7.78 2.81-2.81c.8-.78.8-2.07 0-2.86zM5.41 20L4 18.59l7.72-7.72 1.47 1.35L5.41 20z\"/>\n",
              "  </svg>\n",
              "      </button>\n",
              "      \n",
              "  <style>\n",
              "    .colab-df-container {\n",
              "      display:flex;\n",
              "      flex-wrap:wrap;\n",
              "      gap: 12px;\n",
              "    }\n",
              "\n",
              "    .colab-df-convert {\n",
              "      background-color: #E8F0FE;\n",
              "      border: none;\n",
              "      border-radius: 50%;\n",
              "      cursor: pointer;\n",
              "      display: none;\n",
              "      fill: #1967D2;\n",
              "      height: 32px;\n",
              "      padding: 0 0 0 0;\n",
              "      width: 32px;\n",
              "    }\n",
              "\n",
              "    .colab-df-convert:hover {\n",
              "      background-color: #E2EBFA;\n",
              "      box-shadow: 0px 1px 2px rgba(60, 64, 67, 0.3), 0px 1px 3px 1px rgba(60, 64, 67, 0.15);\n",
              "      fill: #174EA6;\n",
              "    }\n",
              "\n",
              "    [theme=dark] .colab-df-convert {\n",
              "      background-color: #3B4455;\n",
              "      fill: #D2E3FC;\n",
              "    }\n",
              "\n",
              "    [theme=dark] .colab-df-convert:hover {\n",
              "      background-color: #434B5C;\n",
              "      box-shadow: 0px 1px 3px 1px rgba(0, 0, 0, 0.15);\n",
              "      filter: drop-shadow(0px 1px 2px rgba(0, 0, 0, 0.3));\n",
              "      fill: #FFFFFF;\n",
              "    }\n",
              "  </style>\n",
              "\n",
              "      <script>\n",
              "        const buttonEl =\n",
              "          document.querySelector('#df-4687e4fb-b3b2-4748-8801-3dd5fdd0c6a2 button.colab-df-convert');\n",
              "        buttonEl.style.display =\n",
              "          google.colab.kernel.accessAllowed ? 'block' : 'none';\n",
              "\n",
              "        async function convertToInteractive(key) {\n",
              "          const element = document.querySelector('#df-4687e4fb-b3b2-4748-8801-3dd5fdd0c6a2');\n",
              "          const dataTable =\n",
              "            await google.colab.kernel.invokeFunction('convertToInteractive',\n",
              "                                                     [key], {});\n",
              "          if (!dataTable) return;\n",
              "\n",
              "          const docLinkHtml = 'Like what you see? Visit the ' +\n",
              "            '<a target=\"_blank\" href=https://colab.research.google.com/notebooks/data_table.ipynb>data table notebook</a>'\n",
              "            + ' to learn more about interactive tables.';\n",
              "          element.innerHTML = '';\n",
              "          dataTable['output_type'] = 'display_data';\n",
              "          await google.colab.output.renderOutput(dataTable, element);\n",
              "          const docLink = document.createElement('div');\n",
              "          docLink.innerHTML = docLinkHtml;\n",
              "          element.appendChild(docLink);\n",
              "        }\n",
              "      </script>\n",
              "    </div>\n",
              "  </div>\n",
              "  "
            ]
          },
          "metadata": {},
          "execution_count": 75
        }
      ]
    },
    {
      "cell_type": "code",
      "metadata": {
        "id": "4UkpxihR8hpD",
        "colab": {
          "base_uri": "https://localhost:8080/",
          "height": 372
        },
        "outputId": "f20a8a5e-d82c-4d5f-88c4-4e4e625a406e"
      },
      "source": [
        "# Previewing the bottom of the dataset\n",
        "\n",
        "bank.tail()"
      ],
      "execution_count": 8,
      "outputs": [
        {
          "output_type": "execute_result",
          "data": {
            "text/plain": [
              "      country  year       uniqueid Has a Bank account Type of Location  \\\n",
              "23519  Uganda  2018  uniqueid_2113                 No            Rural   \n",
              "23520  Uganda  2018  uniqueid_2114                 No            Rural   \n",
              "23521  Uganda  2018  uniqueid_2115                 No            Rural   \n",
              "23522  Uganda  2018  uniqueid_2116                 No            Urban   \n",
              "23523  Uganda  2018  uniqueid_2117                 No            Rural   \n",
              "\n",
              "      Cell Phone Access  household_size  Respondent Age gender_of_respondent  \\\n",
              "23519               Yes             4.0            48.0               Female   \n",
              "23520               Yes             2.0            27.0               Female   \n",
              "23521               Yes             5.0            27.0               Female   \n",
              "23522               Yes             7.0            30.0               Female   \n",
              "23523               Yes            10.0            20.0                 Male   \n",
              "\n",
              "      The relathip with head        marital_status  Level of Educuation  \\\n",
              "23519      Head of Household    Divorced/Seperated  No formal education   \n",
              "23520      Head of Household  Single/Never Married  Secondary education   \n",
              "23521                 Parent               Widowed    Primary education   \n",
              "23522                 Parent    Divorced/Seperated  Secondary education   \n",
              "23523                  Child  Single/Never Married  Secondary education   \n",
              "\n",
              "         Type of Job  \n",
              "23519   Other Income  \n",
              "23520   Other Income  \n",
              "23521   Other Income  \n",
              "23522  Self employed  \n",
              "23523      No Income  "
            ],
            "text/html": [
              "\n",
              "  <div id=\"df-2e320fdc-e6b2-4ae4-9abd-5c9325f783e7\">\n",
              "    <div class=\"colab-df-container\">\n",
              "      <div>\n",
              "<style scoped>\n",
              "    .dataframe tbody tr th:only-of-type {\n",
              "        vertical-align: middle;\n",
              "    }\n",
              "\n",
              "    .dataframe tbody tr th {\n",
              "        vertical-align: top;\n",
              "    }\n",
              "\n",
              "    .dataframe thead th {\n",
              "        text-align: right;\n",
              "    }\n",
              "</style>\n",
              "<table border=\"1\" class=\"dataframe\">\n",
              "  <thead>\n",
              "    <tr style=\"text-align: right;\">\n",
              "      <th></th>\n",
              "      <th>country</th>\n",
              "      <th>year</th>\n",
              "      <th>uniqueid</th>\n",
              "      <th>Has a Bank account</th>\n",
              "      <th>Type of Location</th>\n",
              "      <th>Cell Phone Access</th>\n",
              "      <th>household_size</th>\n",
              "      <th>Respondent Age</th>\n",
              "      <th>gender_of_respondent</th>\n",
              "      <th>The relathip with head</th>\n",
              "      <th>marital_status</th>\n",
              "      <th>Level of Educuation</th>\n",
              "      <th>Type of Job</th>\n",
              "    </tr>\n",
              "  </thead>\n",
              "  <tbody>\n",
              "    <tr>\n",
              "      <th>23519</th>\n",
              "      <td>Uganda</td>\n",
              "      <td>2018</td>\n",
              "      <td>uniqueid_2113</td>\n",
              "      <td>No</td>\n",
              "      <td>Rural</td>\n",
              "      <td>Yes</td>\n",
              "      <td>4.0</td>\n",
              "      <td>48.0</td>\n",
              "      <td>Female</td>\n",
              "      <td>Head of Household</td>\n",
              "      <td>Divorced/Seperated</td>\n",
              "      <td>No formal education</td>\n",
              "      <td>Other Income</td>\n",
              "    </tr>\n",
              "    <tr>\n",
              "      <th>23520</th>\n",
              "      <td>Uganda</td>\n",
              "      <td>2018</td>\n",
              "      <td>uniqueid_2114</td>\n",
              "      <td>No</td>\n",
              "      <td>Rural</td>\n",
              "      <td>Yes</td>\n",
              "      <td>2.0</td>\n",
              "      <td>27.0</td>\n",
              "      <td>Female</td>\n",
              "      <td>Head of Household</td>\n",
              "      <td>Single/Never Married</td>\n",
              "      <td>Secondary education</td>\n",
              "      <td>Other Income</td>\n",
              "    </tr>\n",
              "    <tr>\n",
              "      <th>23521</th>\n",
              "      <td>Uganda</td>\n",
              "      <td>2018</td>\n",
              "      <td>uniqueid_2115</td>\n",
              "      <td>No</td>\n",
              "      <td>Rural</td>\n",
              "      <td>Yes</td>\n",
              "      <td>5.0</td>\n",
              "      <td>27.0</td>\n",
              "      <td>Female</td>\n",
              "      <td>Parent</td>\n",
              "      <td>Widowed</td>\n",
              "      <td>Primary education</td>\n",
              "      <td>Other Income</td>\n",
              "    </tr>\n",
              "    <tr>\n",
              "      <th>23522</th>\n",
              "      <td>Uganda</td>\n",
              "      <td>2018</td>\n",
              "      <td>uniqueid_2116</td>\n",
              "      <td>No</td>\n",
              "      <td>Urban</td>\n",
              "      <td>Yes</td>\n",
              "      <td>7.0</td>\n",
              "      <td>30.0</td>\n",
              "      <td>Female</td>\n",
              "      <td>Parent</td>\n",
              "      <td>Divorced/Seperated</td>\n",
              "      <td>Secondary education</td>\n",
              "      <td>Self employed</td>\n",
              "    </tr>\n",
              "    <tr>\n",
              "      <th>23523</th>\n",
              "      <td>Uganda</td>\n",
              "      <td>2018</td>\n",
              "      <td>uniqueid_2117</td>\n",
              "      <td>No</td>\n",
              "      <td>Rural</td>\n",
              "      <td>Yes</td>\n",
              "      <td>10.0</td>\n",
              "      <td>20.0</td>\n",
              "      <td>Male</td>\n",
              "      <td>Child</td>\n",
              "      <td>Single/Never Married</td>\n",
              "      <td>Secondary education</td>\n",
              "      <td>No Income</td>\n",
              "    </tr>\n",
              "  </tbody>\n",
              "</table>\n",
              "</div>\n",
              "      <button class=\"colab-df-convert\" onclick=\"convertToInteractive('df-2e320fdc-e6b2-4ae4-9abd-5c9325f783e7')\"\n",
              "              title=\"Convert this dataframe to an interactive table.\"\n",
              "              style=\"display:none;\">\n",
              "        \n",
              "  <svg xmlns=\"http://www.w3.org/2000/svg\" height=\"24px\"viewBox=\"0 0 24 24\"\n",
              "       width=\"24px\">\n",
              "    <path d=\"M0 0h24v24H0V0z\" fill=\"none\"/>\n",
              "    <path d=\"M18.56 5.44l.94 2.06.94-2.06 2.06-.94-2.06-.94-.94-2.06-.94 2.06-2.06.94zm-11 1L8.5 8.5l.94-2.06 2.06-.94-2.06-.94L8.5 2.5l-.94 2.06-2.06.94zm10 10l.94 2.06.94-2.06 2.06-.94-2.06-.94-.94-2.06-.94 2.06-2.06.94z\"/><path d=\"M17.41 7.96l-1.37-1.37c-.4-.4-.92-.59-1.43-.59-.52 0-1.04.2-1.43.59L10.3 9.45l-7.72 7.72c-.78.78-.78 2.05 0 2.83L4 21.41c.39.39.9.59 1.41.59.51 0 1.02-.2 1.41-.59l7.78-7.78 2.81-2.81c.8-.78.8-2.07 0-2.86zM5.41 20L4 18.59l7.72-7.72 1.47 1.35L5.41 20z\"/>\n",
              "  </svg>\n",
              "      </button>\n",
              "      \n",
              "  <style>\n",
              "    .colab-df-container {\n",
              "      display:flex;\n",
              "      flex-wrap:wrap;\n",
              "      gap: 12px;\n",
              "    }\n",
              "\n",
              "    .colab-df-convert {\n",
              "      background-color: #E8F0FE;\n",
              "      border: none;\n",
              "      border-radius: 50%;\n",
              "      cursor: pointer;\n",
              "      display: none;\n",
              "      fill: #1967D2;\n",
              "      height: 32px;\n",
              "      padding: 0 0 0 0;\n",
              "      width: 32px;\n",
              "    }\n",
              "\n",
              "    .colab-df-convert:hover {\n",
              "      background-color: #E2EBFA;\n",
              "      box-shadow: 0px 1px 2px rgba(60, 64, 67, 0.3), 0px 1px 3px 1px rgba(60, 64, 67, 0.15);\n",
              "      fill: #174EA6;\n",
              "    }\n",
              "\n",
              "    [theme=dark] .colab-df-convert {\n",
              "      background-color: #3B4455;\n",
              "      fill: #D2E3FC;\n",
              "    }\n",
              "\n",
              "    [theme=dark] .colab-df-convert:hover {\n",
              "      background-color: #434B5C;\n",
              "      box-shadow: 0px 1px 3px 1px rgba(0, 0, 0, 0.15);\n",
              "      filter: drop-shadow(0px 1px 2px rgba(0, 0, 0, 0.3));\n",
              "      fill: #FFFFFF;\n",
              "    }\n",
              "  </style>\n",
              "\n",
              "      <script>\n",
              "        const buttonEl =\n",
              "          document.querySelector('#df-2e320fdc-e6b2-4ae4-9abd-5c9325f783e7 button.colab-df-convert');\n",
              "        buttonEl.style.display =\n",
              "          google.colab.kernel.accessAllowed ? 'block' : 'none';\n",
              "\n",
              "        async function convertToInteractive(key) {\n",
              "          const element = document.querySelector('#df-2e320fdc-e6b2-4ae4-9abd-5c9325f783e7');\n",
              "          const dataTable =\n",
              "            await google.colab.kernel.invokeFunction('convertToInteractive',\n",
              "                                                     [key], {});\n",
              "          if (!dataTable) return;\n",
              "\n",
              "          const docLinkHtml = 'Like what you see? Visit the ' +\n",
              "            '<a target=\"_blank\" href=https://colab.research.google.com/notebooks/data_table.ipynb>data table notebook</a>'\n",
              "            + ' to learn more about interactive tables.';\n",
              "          element.innerHTML = '';\n",
              "          dataTable['output_type'] = 'display_data';\n",
              "          await google.colab.output.renderOutput(dataTable, element);\n",
              "          const docLink = document.createElement('div');\n",
              "          docLink.innerHTML = docLinkHtml;\n",
              "          element.appendChild(docLink);\n",
              "        }\n",
              "      </script>\n",
              "    </div>\n",
              "  </div>\n",
              "  "
            ]
          },
          "metadata": {},
          "execution_count": 8
        }
      ]
    },
    {
      "cell_type": "code",
      "metadata": {
        "id": "SD6zr6a3J231",
        "colab": {
          "base_uri": "https://localhost:8080/",
          "height": 340
        },
        "outputId": "95d3ef9a-69f1-497f-c2ad-10f6a185a082"
      },
      "source": [
        "# Previewing a sample of the dataset\n",
        "\n",
        "bank.sample(n=4)"
      ],
      "execution_count": 9,
      "outputs": [
        {
          "output_type": "execute_result",
          "data": {
            "text/plain": [
              "      country  year       uniqueid Has a Bank account Type of Location  \\\n",
              "10450  Rwanda  2016  uniqueid_4383                 No            Rural   \n",
              "3839    Kenya  2018  uniqueid_3840                Yes            Urban   \n",
              "12427  Rwanda  2016  uniqueid_6360                 No            Rural   \n",
              "10045  Rwanda  2016  uniqueid_3978                 No            Rural   \n",
              "\n",
              "      Cell Phone Access  household_size  Respondent Age gender_of_respondent  \\\n",
              "10450               Yes             4.0            34.0               Female   \n",
              "3839                Yes             3.0            24.0                 Male   \n",
              "12427               Yes             5.0            30.0               Female   \n",
              "10045                No             1.0            72.0               Female   \n",
              "\n",
              "      The relathip with head           marital_status  Level of Educuation  \\\n",
              "10450                 Spouse  Married/Living together    Primary education   \n",
              "3839       Head of Household  Married/Living together    Primary education   \n",
              "12427                 Spouse  Married/Living together   Tertiary education   \n",
              "10045      Head of Household                  Widowed  No formal education   \n",
              "\n",
              "                     Type of Job  \n",
              "10450        Farming and Fishing  \n",
              "3839   Formally employed Private  \n",
              "12427               Other Income  \n",
              "10045       Remittance Dependent  "
            ],
            "text/html": [
              "\n",
              "  <div id=\"df-51a46e35-659a-43f0-a6eb-a388d14fb118\">\n",
              "    <div class=\"colab-df-container\">\n",
              "      <div>\n",
              "<style scoped>\n",
              "    .dataframe tbody tr th:only-of-type {\n",
              "        vertical-align: middle;\n",
              "    }\n",
              "\n",
              "    .dataframe tbody tr th {\n",
              "        vertical-align: top;\n",
              "    }\n",
              "\n",
              "    .dataframe thead th {\n",
              "        text-align: right;\n",
              "    }\n",
              "</style>\n",
              "<table border=\"1\" class=\"dataframe\">\n",
              "  <thead>\n",
              "    <tr style=\"text-align: right;\">\n",
              "      <th></th>\n",
              "      <th>country</th>\n",
              "      <th>year</th>\n",
              "      <th>uniqueid</th>\n",
              "      <th>Has a Bank account</th>\n",
              "      <th>Type of Location</th>\n",
              "      <th>Cell Phone Access</th>\n",
              "      <th>household_size</th>\n",
              "      <th>Respondent Age</th>\n",
              "      <th>gender_of_respondent</th>\n",
              "      <th>The relathip with head</th>\n",
              "      <th>marital_status</th>\n",
              "      <th>Level of Educuation</th>\n",
              "      <th>Type of Job</th>\n",
              "    </tr>\n",
              "  </thead>\n",
              "  <tbody>\n",
              "    <tr>\n",
              "      <th>10450</th>\n",
              "      <td>Rwanda</td>\n",
              "      <td>2016</td>\n",
              "      <td>uniqueid_4383</td>\n",
              "      <td>No</td>\n",
              "      <td>Rural</td>\n",
              "      <td>Yes</td>\n",
              "      <td>4.0</td>\n",
              "      <td>34.0</td>\n",
              "      <td>Female</td>\n",
              "      <td>Spouse</td>\n",
              "      <td>Married/Living together</td>\n",
              "      <td>Primary education</td>\n",
              "      <td>Farming and Fishing</td>\n",
              "    </tr>\n",
              "    <tr>\n",
              "      <th>3839</th>\n",
              "      <td>Kenya</td>\n",
              "      <td>2018</td>\n",
              "      <td>uniqueid_3840</td>\n",
              "      <td>Yes</td>\n",
              "      <td>Urban</td>\n",
              "      <td>Yes</td>\n",
              "      <td>3.0</td>\n",
              "      <td>24.0</td>\n",
              "      <td>Male</td>\n",
              "      <td>Head of Household</td>\n",
              "      <td>Married/Living together</td>\n",
              "      <td>Primary education</td>\n",
              "      <td>Formally employed Private</td>\n",
              "    </tr>\n",
              "    <tr>\n",
              "      <th>12427</th>\n",
              "      <td>Rwanda</td>\n",
              "      <td>2016</td>\n",
              "      <td>uniqueid_6360</td>\n",
              "      <td>No</td>\n",
              "      <td>Rural</td>\n",
              "      <td>Yes</td>\n",
              "      <td>5.0</td>\n",
              "      <td>30.0</td>\n",
              "      <td>Female</td>\n",
              "      <td>Spouse</td>\n",
              "      <td>Married/Living together</td>\n",
              "      <td>Tertiary education</td>\n",
              "      <td>Other Income</td>\n",
              "    </tr>\n",
              "    <tr>\n",
              "      <th>10045</th>\n",
              "      <td>Rwanda</td>\n",
              "      <td>2016</td>\n",
              "      <td>uniqueid_3978</td>\n",
              "      <td>No</td>\n",
              "      <td>Rural</td>\n",
              "      <td>No</td>\n",
              "      <td>1.0</td>\n",
              "      <td>72.0</td>\n",
              "      <td>Female</td>\n",
              "      <td>Head of Household</td>\n",
              "      <td>Widowed</td>\n",
              "      <td>No formal education</td>\n",
              "      <td>Remittance Dependent</td>\n",
              "    </tr>\n",
              "  </tbody>\n",
              "</table>\n",
              "</div>\n",
              "      <button class=\"colab-df-convert\" onclick=\"convertToInteractive('df-51a46e35-659a-43f0-a6eb-a388d14fb118')\"\n",
              "              title=\"Convert this dataframe to an interactive table.\"\n",
              "              style=\"display:none;\">\n",
              "        \n",
              "  <svg xmlns=\"http://www.w3.org/2000/svg\" height=\"24px\"viewBox=\"0 0 24 24\"\n",
              "       width=\"24px\">\n",
              "    <path d=\"M0 0h24v24H0V0z\" fill=\"none\"/>\n",
              "    <path d=\"M18.56 5.44l.94 2.06.94-2.06 2.06-.94-2.06-.94-.94-2.06-.94 2.06-2.06.94zm-11 1L8.5 8.5l.94-2.06 2.06-.94-2.06-.94L8.5 2.5l-.94 2.06-2.06.94zm10 10l.94 2.06.94-2.06 2.06-.94-2.06-.94-.94-2.06-.94 2.06-2.06.94z\"/><path d=\"M17.41 7.96l-1.37-1.37c-.4-.4-.92-.59-1.43-.59-.52 0-1.04.2-1.43.59L10.3 9.45l-7.72 7.72c-.78.78-.78 2.05 0 2.83L4 21.41c.39.39.9.59 1.41.59.51 0 1.02-.2 1.41-.59l7.78-7.78 2.81-2.81c.8-.78.8-2.07 0-2.86zM5.41 20L4 18.59l7.72-7.72 1.47 1.35L5.41 20z\"/>\n",
              "  </svg>\n",
              "      </button>\n",
              "      \n",
              "  <style>\n",
              "    .colab-df-container {\n",
              "      display:flex;\n",
              "      flex-wrap:wrap;\n",
              "      gap: 12px;\n",
              "    }\n",
              "\n",
              "    .colab-df-convert {\n",
              "      background-color: #E8F0FE;\n",
              "      border: none;\n",
              "      border-radius: 50%;\n",
              "      cursor: pointer;\n",
              "      display: none;\n",
              "      fill: #1967D2;\n",
              "      height: 32px;\n",
              "      padding: 0 0 0 0;\n",
              "      width: 32px;\n",
              "    }\n",
              "\n",
              "    .colab-df-convert:hover {\n",
              "      background-color: #E2EBFA;\n",
              "      box-shadow: 0px 1px 2px rgba(60, 64, 67, 0.3), 0px 1px 3px 1px rgba(60, 64, 67, 0.15);\n",
              "      fill: #174EA6;\n",
              "    }\n",
              "\n",
              "    [theme=dark] .colab-df-convert {\n",
              "      background-color: #3B4455;\n",
              "      fill: #D2E3FC;\n",
              "    }\n",
              "\n",
              "    [theme=dark] .colab-df-convert:hover {\n",
              "      background-color: #434B5C;\n",
              "      box-shadow: 0px 1px 3px 1px rgba(0, 0, 0, 0.15);\n",
              "      filter: drop-shadow(0px 1px 2px rgba(0, 0, 0, 0.3));\n",
              "      fill: #FFFFFF;\n",
              "    }\n",
              "  </style>\n",
              "\n",
              "      <script>\n",
              "        const buttonEl =\n",
              "          document.querySelector('#df-51a46e35-659a-43f0-a6eb-a388d14fb118 button.colab-df-convert');\n",
              "        buttonEl.style.display =\n",
              "          google.colab.kernel.accessAllowed ? 'block' : 'none';\n",
              "\n",
              "        async function convertToInteractive(key) {\n",
              "          const element = document.querySelector('#df-51a46e35-659a-43f0-a6eb-a388d14fb118');\n",
              "          const dataTable =\n",
              "            await google.colab.kernel.invokeFunction('convertToInteractive',\n",
              "                                                     [key], {});\n",
              "          if (!dataTable) return;\n",
              "\n",
              "          const docLinkHtml = 'Like what you see? Visit the ' +\n",
              "            '<a target=\"_blank\" href=https://colab.research.google.com/notebooks/data_table.ipynb>data table notebook</a>'\n",
              "            + ' to learn more about interactive tables.';\n",
              "          element.innerHTML = '';\n",
              "          dataTable['output_type'] = 'display_data';\n",
              "          await google.colab.output.renderOutput(dataTable, element);\n",
              "          const docLink = document.createElement('div');\n",
              "          docLink.innerHTML = docLinkHtml;\n",
              "          element.appendChild(docLink);\n",
              "        }\n",
              "      </script>\n",
              "    </div>\n",
              "  </div>\n",
              "  "
            ]
          },
          "metadata": {},
          "execution_count": 9
        }
      ]
    },
    {
      "cell_type": "code",
      "metadata": {
        "id": "0whRbY788qkw",
        "colab": {
          "base_uri": "https://localhost:8080/"
        },
        "outputId": "8cc92af7-3de6-433a-86b6-fd3b1d957b0b"
      },
      "source": [
        "# Determining the number of records in the dataset\n",
        "\n",
        "bank.shape"
      ],
      "execution_count": 10,
      "outputs": [
        {
          "output_type": "execute_result",
          "data": {
            "text/plain": [
              "(23524, 13)"
            ]
          },
          "metadata": {},
          "execution_count": 10
        }
      ]
    },
    {
      "cell_type": "code",
      "metadata": {
        "id": "gqe1wav--FeC",
        "colab": {
          "base_uri": "https://localhost:8080/"
        },
        "outputId": "ee1f61b4-e3bc-4be8-e4e3-8b041301441c"
      },
      "source": [
        "# Checking whether each column has an appropriate datatype\n",
        "\n",
        "bank.dtypes"
      ],
      "execution_count": 11,
      "outputs": [
        {
          "output_type": "execute_result",
          "data": {
            "text/plain": [
              "country                    object\n",
              "year                        int64\n",
              "uniqueid                   object\n",
              "Has a Bank account         object\n",
              "Type of Location           object\n",
              "Cell Phone Access          object\n",
              "household_size            float64\n",
              "Respondent Age            float64\n",
              "gender_of_respondent       object\n",
              "The relathip with head     object\n",
              "marital_status             object\n",
              "Level of Educuation        object\n",
              "Type of Job                object\n",
              "dtype: object"
            ]
          },
          "metadata": {},
          "execution_count": 11
        }
      ]
    },
    {
      "cell_type": "code",
      "metadata": {
        "id": "bK4G2FN3-Top",
        "colab": {
          "base_uri": "https://localhost:8080/"
        },
        "outputId": "e7ccd96c-50df-41e4-b572-f740a953c7f0"
      },
      "source": [
        "# Checking the number of unique records in each column\n",
        "\n",
        "bank.nunique()"
      ],
      "execution_count": 12,
      "outputs": [
        {
          "output_type": "execute_result",
          "data": {
            "text/plain": [
              "country                      4\n",
              "year                         6\n",
              "uniqueid                  8735\n",
              "Has a Bank account           2\n",
              "Type of Location             2\n",
              "Cell Phone Access            2\n",
              "household_size              21\n",
              "Respondent Age              85\n",
              "gender_of_respondent         2\n",
              "The relathip with head       6\n",
              "marital_status               5\n",
              "Level of Educuation          7\n",
              "Type of Job                 10\n",
              "dtype: int64"
            ]
          },
          "metadata": {},
          "execution_count": 12
        }
      ]
    },
    {
      "cell_type": "code",
      "metadata": {
        "id": "UtrPvPxsKJow",
        "colab": {
          "base_uri": "https://localhost:8080/"
        },
        "outputId": "67f37572-76c6-4392-d919-15583f1eb063"
      },
      "source": [
        "# Previewing existence of null values\n",
        "\n",
        "bank.info()"
      ],
      "execution_count": 13,
      "outputs": [
        {
          "output_type": "stream",
          "name": "stdout",
          "text": [
            "<class 'pandas.core.frame.DataFrame'>\n",
            "RangeIndex: 23524 entries, 0 to 23523\n",
            "Data columns (total 13 columns):\n",
            " #   Column                  Non-Null Count  Dtype  \n",
            "---  ------                  --------------  -----  \n",
            " 0   country                 23510 non-null  object \n",
            " 1   year                    23524 non-null  int64  \n",
            " 2   uniqueid                23524 non-null  object \n",
            " 3   Has a Bank account      23488 non-null  object \n",
            " 4   Type of Location        23509 non-null  object \n",
            " 5   Cell Phone Access       23513 non-null  object \n",
            " 6   household_size          23496 non-null  float64\n",
            " 7   Respondent Age          23490 non-null  float64\n",
            " 8   gender_of_respondent    23490 non-null  object \n",
            " 9   The relathip with head  23520 non-null  object \n",
            " 10  marital_status          23492 non-null  object \n",
            " 11  Level of Educuation     23495 non-null  object \n",
            " 12  Type of Job             23494 non-null  object \n",
            "dtypes: float64(2), int64(1), object(10)\n",
            "memory usage: 2.3+ MB\n"
          ]
        }
      ]
    },
    {
      "cell_type": "code",
      "metadata": {
        "id": "RKj17vqaKkX7",
        "colab": {
          "base_uri": "https://localhost:8080/",
          "height": 300
        },
        "outputId": "bbc1970a-485a-43bc-94fd-c8bb666d02df"
      },
      "source": [
        "# Summary statistics\n",
        "\n",
        "bank.describe()"
      ],
      "execution_count": 14,
      "outputs": [
        {
          "output_type": "execute_result",
          "data": {
            "text/plain": [
              "               year  household_size  Respondent Age\n",
              "count  23524.000000    23496.000000    23490.000000\n",
              "mean    2016.979000        3.681818       38.804300\n",
              "std        0.899669        2.279933       16.519996\n",
              "min     2016.000000        0.000000       16.000000\n",
              "25%     2016.000000        2.000000       26.000000\n",
              "50%     2017.000000        3.000000       35.000000\n",
              "75%     2018.000000        5.000000       49.000000\n",
              "max     2056.000000       21.000000      100.000000"
            ],
            "text/html": [
              "\n",
              "  <div id=\"df-79a54573-7333-4a63-96fc-838ed26bde1a\">\n",
              "    <div class=\"colab-df-container\">\n",
              "      <div>\n",
              "<style scoped>\n",
              "    .dataframe tbody tr th:only-of-type {\n",
              "        vertical-align: middle;\n",
              "    }\n",
              "\n",
              "    .dataframe tbody tr th {\n",
              "        vertical-align: top;\n",
              "    }\n",
              "\n",
              "    .dataframe thead th {\n",
              "        text-align: right;\n",
              "    }\n",
              "</style>\n",
              "<table border=\"1\" class=\"dataframe\">\n",
              "  <thead>\n",
              "    <tr style=\"text-align: right;\">\n",
              "      <th></th>\n",
              "      <th>year</th>\n",
              "      <th>household_size</th>\n",
              "      <th>Respondent Age</th>\n",
              "    </tr>\n",
              "  </thead>\n",
              "  <tbody>\n",
              "    <tr>\n",
              "      <th>count</th>\n",
              "      <td>23524.000000</td>\n",
              "      <td>23496.000000</td>\n",
              "      <td>23490.000000</td>\n",
              "    </tr>\n",
              "    <tr>\n",
              "      <th>mean</th>\n",
              "      <td>2016.979000</td>\n",
              "      <td>3.681818</td>\n",
              "      <td>38.804300</td>\n",
              "    </tr>\n",
              "    <tr>\n",
              "      <th>std</th>\n",
              "      <td>0.899669</td>\n",
              "      <td>2.279933</td>\n",
              "      <td>16.519996</td>\n",
              "    </tr>\n",
              "    <tr>\n",
              "      <th>min</th>\n",
              "      <td>2016.000000</td>\n",
              "      <td>0.000000</td>\n",
              "      <td>16.000000</td>\n",
              "    </tr>\n",
              "    <tr>\n",
              "      <th>25%</th>\n",
              "      <td>2016.000000</td>\n",
              "      <td>2.000000</td>\n",
              "      <td>26.000000</td>\n",
              "    </tr>\n",
              "    <tr>\n",
              "      <th>50%</th>\n",
              "      <td>2017.000000</td>\n",
              "      <td>3.000000</td>\n",
              "      <td>35.000000</td>\n",
              "    </tr>\n",
              "    <tr>\n",
              "      <th>75%</th>\n",
              "      <td>2018.000000</td>\n",
              "      <td>5.000000</td>\n",
              "      <td>49.000000</td>\n",
              "    </tr>\n",
              "    <tr>\n",
              "      <th>max</th>\n",
              "      <td>2056.000000</td>\n",
              "      <td>21.000000</td>\n",
              "      <td>100.000000</td>\n",
              "    </tr>\n",
              "  </tbody>\n",
              "</table>\n",
              "</div>\n",
              "      <button class=\"colab-df-convert\" onclick=\"convertToInteractive('df-79a54573-7333-4a63-96fc-838ed26bde1a')\"\n",
              "              title=\"Convert this dataframe to an interactive table.\"\n",
              "              style=\"display:none;\">\n",
              "        \n",
              "  <svg xmlns=\"http://www.w3.org/2000/svg\" height=\"24px\"viewBox=\"0 0 24 24\"\n",
              "       width=\"24px\">\n",
              "    <path d=\"M0 0h24v24H0V0z\" fill=\"none\"/>\n",
              "    <path d=\"M18.56 5.44l.94 2.06.94-2.06 2.06-.94-2.06-.94-.94-2.06-.94 2.06-2.06.94zm-11 1L8.5 8.5l.94-2.06 2.06-.94-2.06-.94L8.5 2.5l-.94 2.06-2.06.94zm10 10l.94 2.06.94-2.06 2.06-.94-2.06-.94-.94-2.06-.94 2.06-2.06.94z\"/><path d=\"M17.41 7.96l-1.37-1.37c-.4-.4-.92-.59-1.43-.59-.52 0-1.04.2-1.43.59L10.3 9.45l-7.72 7.72c-.78.78-.78 2.05 0 2.83L4 21.41c.39.39.9.59 1.41.59.51 0 1.02-.2 1.41-.59l7.78-7.78 2.81-2.81c.8-.78.8-2.07 0-2.86zM5.41 20L4 18.59l7.72-7.72 1.47 1.35L5.41 20z\"/>\n",
              "  </svg>\n",
              "      </button>\n",
              "      \n",
              "  <style>\n",
              "    .colab-df-container {\n",
              "      display:flex;\n",
              "      flex-wrap:wrap;\n",
              "      gap: 12px;\n",
              "    }\n",
              "\n",
              "    .colab-df-convert {\n",
              "      background-color: #E8F0FE;\n",
              "      border: none;\n",
              "      border-radius: 50%;\n",
              "      cursor: pointer;\n",
              "      display: none;\n",
              "      fill: #1967D2;\n",
              "      height: 32px;\n",
              "      padding: 0 0 0 0;\n",
              "      width: 32px;\n",
              "    }\n",
              "\n",
              "    .colab-df-convert:hover {\n",
              "      background-color: #E2EBFA;\n",
              "      box-shadow: 0px 1px 2px rgba(60, 64, 67, 0.3), 0px 1px 3px 1px rgba(60, 64, 67, 0.15);\n",
              "      fill: #174EA6;\n",
              "    }\n",
              "\n",
              "    [theme=dark] .colab-df-convert {\n",
              "      background-color: #3B4455;\n",
              "      fill: #D2E3FC;\n",
              "    }\n",
              "\n",
              "    [theme=dark] .colab-df-convert:hover {\n",
              "      background-color: #434B5C;\n",
              "      box-shadow: 0px 1px 3px 1px rgba(0, 0, 0, 0.15);\n",
              "      filter: drop-shadow(0px 1px 2px rgba(0, 0, 0, 0.3));\n",
              "      fill: #FFFFFF;\n",
              "    }\n",
              "  </style>\n",
              "\n",
              "      <script>\n",
              "        const buttonEl =\n",
              "          document.querySelector('#df-79a54573-7333-4a63-96fc-838ed26bde1a button.colab-df-convert');\n",
              "        buttonEl.style.display =\n",
              "          google.colab.kernel.accessAllowed ? 'block' : 'none';\n",
              "\n",
              "        async function convertToInteractive(key) {\n",
              "          const element = document.querySelector('#df-79a54573-7333-4a63-96fc-838ed26bde1a');\n",
              "          const dataTable =\n",
              "            await google.colab.kernel.invokeFunction('convertToInteractive',\n",
              "                                                     [key], {});\n",
              "          if (!dataTable) return;\n",
              "\n",
              "          const docLinkHtml = 'Like what you see? Visit the ' +\n",
              "            '<a target=\"_blank\" href=https://colab.research.google.com/notebooks/data_table.ipynb>data table notebook</a>'\n",
              "            + ' to learn more about interactive tables.';\n",
              "          element.innerHTML = '';\n",
              "          dataTable['output_type'] = 'display_data';\n",
              "          await google.colab.output.renderOutput(dataTable, element);\n",
              "          const docLink = document.createElement('div');\n",
              "          docLink.innerHTML = docLinkHtml;\n",
              "          element.appendChild(docLink);\n",
              "        }\n",
              "      </script>\n",
              "    </div>\n",
              "  </div>\n",
              "  "
            ]
          },
          "metadata": {},
          "execution_count": 14
        }
      ]
    },
    {
      "cell_type": "markdown",
      "metadata": {
        "id": "UGOmzFL0C1PH"
      },
      "source": [
        "# External Data Source Validation"
      ]
    },
    {
      "cell_type": "markdown",
      "metadata": {
        "id": "CvGdIQNOC9DO"
      },
      "source": [
        "# Data Cleaning"
      ]
    },
    {
      "cell_type": "code",
      "metadata": {
        "id": "Th6RdC4tA45Z",
        "colab": {
          "base_uri": "https://localhost:8080/",
          "height": 374
        },
        "outputId": "41a04747-5d48-4fda-de3b-ff348649c591"
      },
      "source": [
        "# lowercase all columns \n",
        "\n",
        "bank.columns = ['country', 'year', 'uniqueid', 'has_a_bank_account', 'location_type', \n",
        "                   'has_a_cell_phone', 'household_size', 'respondent_age', 'respondent_gender',\n",
        "                   'relationship_with_head', 'marital_status', 'education_level', 'occupation']\n",
        "bank.head()"
      ],
      "execution_count": 15,
      "outputs": [
        {
          "output_type": "execute_result",
          "data": {
            "text/plain": [
              "  country  year    uniqueid has_a_bank_account location_type has_a_cell_phone  \\\n",
              "0   Kenya  2018  uniqueid_1                Yes         Rural              Yes   \n",
              "1   Kenya  2018  uniqueid_2                 No         Rural               No   \n",
              "2   Kenya  2018  uniqueid_3                Yes         Urban              Yes   \n",
              "3   Kenya  2018  uniqueid_4                 No         Rural              Yes   \n",
              "4   Kenya  2018  uniqueid_5                 No         Urban               No   \n",
              "\n",
              "   household_size  respondent_age respondent_gender relationship_with_head  \\\n",
              "0             3.0            24.0            Female                 Spouse   \n",
              "1             5.0            70.0            Female      Head of Household   \n",
              "2             5.0            26.0              Male         Other relative   \n",
              "3             5.0            34.0            Female      Head of Household   \n",
              "4             8.0            26.0              Male                  Child   \n",
              "\n",
              "            marital_status                  education_level  \\\n",
              "0  Married/Living together              Secondary education   \n",
              "1                  Widowed              No formal education   \n",
              "2     Single/Never Married  Vocational/Specialised training   \n",
              "3  Married/Living together                Primary education   \n",
              "4     Single/Never Married                Primary education   \n",
              "\n",
              "                  occupation  \n",
              "0              Self employed  \n",
              "1       Government Dependent  \n",
              "2              Self employed  \n",
              "3  Formally employed Private  \n",
              "4        Informally employed  "
            ],
            "text/html": [
              "\n",
              "  <div id=\"df-3c363383-51df-4c74-9405-0fcc8ba774f1\">\n",
              "    <div class=\"colab-df-container\">\n",
              "      <div>\n",
              "<style scoped>\n",
              "    .dataframe tbody tr th:only-of-type {\n",
              "        vertical-align: middle;\n",
              "    }\n",
              "\n",
              "    .dataframe tbody tr th {\n",
              "        vertical-align: top;\n",
              "    }\n",
              "\n",
              "    .dataframe thead th {\n",
              "        text-align: right;\n",
              "    }\n",
              "</style>\n",
              "<table border=\"1\" class=\"dataframe\">\n",
              "  <thead>\n",
              "    <tr style=\"text-align: right;\">\n",
              "      <th></th>\n",
              "      <th>country</th>\n",
              "      <th>year</th>\n",
              "      <th>uniqueid</th>\n",
              "      <th>has_a_bank_account</th>\n",
              "      <th>location_type</th>\n",
              "      <th>has_a_cell_phone</th>\n",
              "      <th>household_size</th>\n",
              "      <th>respondent_age</th>\n",
              "      <th>respondent_gender</th>\n",
              "      <th>relationship_with_head</th>\n",
              "      <th>marital_status</th>\n",
              "      <th>education_level</th>\n",
              "      <th>occupation</th>\n",
              "    </tr>\n",
              "  </thead>\n",
              "  <tbody>\n",
              "    <tr>\n",
              "      <th>0</th>\n",
              "      <td>Kenya</td>\n",
              "      <td>2018</td>\n",
              "      <td>uniqueid_1</td>\n",
              "      <td>Yes</td>\n",
              "      <td>Rural</td>\n",
              "      <td>Yes</td>\n",
              "      <td>3.0</td>\n",
              "      <td>24.0</td>\n",
              "      <td>Female</td>\n",
              "      <td>Spouse</td>\n",
              "      <td>Married/Living together</td>\n",
              "      <td>Secondary education</td>\n",
              "      <td>Self employed</td>\n",
              "    </tr>\n",
              "    <tr>\n",
              "      <th>1</th>\n",
              "      <td>Kenya</td>\n",
              "      <td>2018</td>\n",
              "      <td>uniqueid_2</td>\n",
              "      <td>No</td>\n",
              "      <td>Rural</td>\n",
              "      <td>No</td>\n",
              "      <td>5.0</td>\n",
              "      <td>70.0</td>\n",
              "      <td>Female</td>\n",
              "      <td>Head of Household</td>\n",
              "      <td>Widowed</td>\n",
              "      <td>No formal education</td>\n",
              "      <td>Government Dependent</td>\n",
              "    </tr>\n",
              "    <tr>\n",
              "      <th>2</th>\n",
              "      <td>Kenya</td>\n",
              "      <td>2018</td>\n",
              "      <td>uniqueid_3</td>\n",
              "      <td>Yes</td>\n",
              "      <td>Urban</td>\n",
              "      <td>Yes</td>\n",
              "      <td>5.0</td>\n",
              "      <td>26.0</td>\n",
              "      <td>Male</td>\n",
              "      <td>Other relative</td>\n",
              "      <td>Single/Never Married</td>\n",
              "      <td>Vocational/Specialised training</td>\n",
              "      <td>Self employed</td>\n",
              "    </tr>\n",
              "    <tr>\n",
              "      <th>3</th>\n",
              "      <td>Kenya</td>\n",
              "      <td>2018</td>\n",
              "      <td>uniqueid_4</td>\n",
              "      <td>No</td>\n",
              "      <td>Rural</td>\n",
              "      <td>Yes</td>\n",
              "      <td>5.0</td>\n",
              "      <td>34.0</td>\n",
              "      <td>Female</td>\n",
              "      <td>Head of Household</td>\n",
              "      <td>Married/Living together</td>\n",
              "      <td>Primary education</td>\n",
              "      <td>Formally employed Private</td>\n",
              "    </tr>\n",
              "    <tr>\n",
              "      <th>4</th>\n",
              "      <td>Kenya</td>\n",
              "      <td>2018</td>\n",
              "      <td>uniqueid_5</td>\n",
              "      <td>No</td>\n",
              "      <td>Urban</td>\n",
              "      <td>No</td>\n",
              "      <td>8.0</td>\n",
              "      <td>26.0</td>\n",
              "      <td>Male</td>\n",
              "      <td>Child</td>\n",
              "      <td>Single/Never Married</td>\n",
              "      <td>Primary education</td>\n",
              "      <td>Informally employed</td>\n",
              "    </tr>\n",
              "  </tbody>\n",
              "</table>\n",
              "</div>\n",
              "      <button class=\"colab-df-convert\" onclick=\"convertToInteractive('df-3c363383-51df-4c74-9405-0fcc8ba774f1')\"\n",
              "              title=\"Convert this dataframe to an interactive table.\"\n",
              "              style=\"display:none;\">\n",
              "        \n",
              "  <svg xmlns=\"http://www.w3.org/2000/svg\" height=\"24px\"viewBox=\"0 0 24 24\"\n",
              "       width=\"24px\">\n",
              "    <path d=\"M0 0h24v24H0V0z\" fill=\"none\"/>\n",
              "    <path d=\"M18.56 5.44l.94 2.06.94-2.06 2.06-.94-2.06-.94-.94-2.06-.94 2.06-2.06.94zm-11 1L8.5 8.5l.94-2.06 2.06-.94-2.06-.94L8.5 2.5l-.94 2.06-2.06.94zm10 10l.94 2.06.94-2.06 2.06-.94-2.06-.94-.94-2.06-.94 2.06-2.06.94z\"/><path d=\"M17.41 7.96l-1.37-1.37c-.4-.4-.92-.59-1.43-.59-.52 0-1.04.2-1.43.59L10.3 9.45l-7.72 7.72c-.78.78-.78 2.05 0 2.83L4 21.41c.39.39.9.59 1.41.59.51 0 1.02-.2 1.41-.59l7.78-7.78 2.81-2.81c.8-.78.8-2.07 0-2.86zM5.41 20L4 18.59l7.72-7.72 1.47 1.35L5.41 20z\"/>\n",
              "  </svg>\n",
              "      </button>\n",
              "      \n",
              "  <style>\n",
              "    .colab-df-container {\n",
              "      display:flex;\n",
              "      flex-wrap:wrap;\n",
              "      gap: 12px;\n",
              "    }\n",
              "\n",
              "    .colab-df-convert {\n",
              "      background-color: #E8F0FE;\n",
              "      border: none;\n",
              "      border-radius: 50%;\n",
              "      cursor: pointer;\n",
              "      display: none;\n",
              "      fill: #1967D2;\n",
              "      height: 32px;\n",
              "      padding: 0 0 0 0;\n",
              "      width: 32px;\n",
              "    }\n",
              "\n",
              "    .colab-df-convert:hover {\n",
              "      background-color: #E2EBFA;\n",
              "      box-shadow: 0px 1px 2px rgba(60, 64, 67, 0.3), 0px 1px 3px 1px rgba(60, 64, 67, 0.15);\n",
              "      fill: #174EA6;\n",
              "    }\n",
              "\n",
              "    [theme=dark] .colab-df-convert {\n",
              "      background-color: #3B4455;\n",
              "      fill: #D2E3FC;\n",
              "    }\n",
              "\n",
              "    [theme=dark] .colab-df-convert:hover {\n",
              "      background-color: #434B5C;\n",
              "      box-shadow: 0px 1px 3px 1px rgba(0, 0, 0, 0.15);\n",
              "      filter: drop-shadow(0px 1px 2px rgba(0, 0, 0, 0.3));\n",
              "      fill: #FFFFFF;\n",
              "    }\n",
              "  </style>\n",
              "\n",
              "      <script>\n",
              "        const buttonEl =\n",
              "          document.querySelector('#df-3c363383-51df-4c74-9405-0fcc8ba774f1 button.colab-df-convert');\n",
              "        buttonEl.style.display =\n",
              "          google.colab.kernel.accessAllowed ? 'block' : 'none';\n",
              "\n",
              "        async function convertToInteractive(key) {\n",
              "          const element = document.querySelector('#df-3c363383-51df-4c74-9405-0fcc8ba774f1');\n",
              "          const dataTable =\n",
              "            await google.colab.kernel.invokeFunction('convertToInteractive',\n",
              "                                                     [key], {});\n",
              "          if (!dataTable) return;\n",
              "\n",
              "          const docLinkHtml = 'Like what you see? Visit the ' +\n",
              "            '<a target=\"_blank\" href=https://colab.research.google.com/notebooks/data_table.ipynb>data table notebook</a>'\n",
              "            + ' to learn more about interactive tables.';\n",
              "          element.innerHTML = '';\n",
              "          dataTable['output_type'] = 'display_data';\n",
              "          await google.colab.output.renderOutput(dataTable, element);\n",
              "          const docLink = document.createElement('div');\n",
              "          docLink.innerHTML = docLinkHtml;\n",
              "          element.appendChild(docLink);\n",
              "        }\n",
              "      </script>\n",
              "    </div>\n",
              "  </div>\n",
              "  "
            ]
          },
          "metadata": {},
          "execution_count": 15
        }
      ]
    },
    {
      "cell_type": "code",
      "metadata": {
        "id": "f9y_CPi6LXXh",
        "colab": {
          "base_uri": "https://localhost:8080/"
        },
        "outputId": "f89940d1-f9e1-4950-d12c-32ff6499d2c2"
      },
      "source": [
        "# Checking for duplicate values\n",
        "\n",
        "bank.duplicated().any()"
      ],
      "execution_count": 16,
      "outputs": [
        {
          "output_type": "execute_result",
          "data": {
            "text/plain": [
              "False"
            ]
          },
          "metadata": {},
          "execution_count": 16
        }
      ]
    },
    {
      "cell_type": "markdown",
      "metadata": {
        "id": "DiFpFmetEGfx"
      },
      "source": [
        "## Outliers"
      ]
    },
    {
      "cell_type": "code",
      "metadata": {
        "id": "7mMardz3D9gk",
        "colab": {
          "base_uri": "https://localhost:8080/",
          "height": 527
        },
        "outputId": "0dc06c02-e856-4e0c-a51a-a8d29c383e6d"
      },
      "source": [
        "# Checking for Outliers\n",
        "\n",
        "fig, ax = plt.subplots(1,3, figsize=(20,8))\n",
        "fig.suptitle('Boxplots')\n",
        "sns.boxplot(data=bank, y = \"year\", ax=ax[0])\n",
        "ax[0].set_title('Box Plot of Year')\n",
        "sns.boxplot(data=bank, y = \"respondent_age\", ax=ax[1])\n",
        "ax[1].set_title('Box Plot of Respondents Age')\n",
        "sns.boxplot(data=bank, y = \"household_size\", ax=ax[2])\n",
        "ax[2].set_title('Box Plot of Household Size')\n",
        "\n",
        "plt.show()\n",
        "\n",
        "# Outleirs present in all three variables."
      ],
      "execution_count": 17,
      "outputs": [
        {
          "output_type": "display_data",
          "data": {
            "text/plain": [
              "<Figure size 1440x576 with 3 Axes>"
            ],
            "image/png": "[encoded data removed]"
          },
          "metadata": {
            "needs_background": "light"
          }
        }
      ]
    },
    {
      "cell_type": "code",
      "metadata": {
        "id": "ahOf4uN0TZvW",
        "colab": {
          "base_uri": "https://localhost:8080/"
        },
        "outputId": "b70cb5de-24ac-497d-ebad-4d16517b64b3"
      },
      "source": [
        "# Identify the exact outliers in the 'respondent age\n",
        "\n",
        "outliers = []\n",
        "\n",
        "def detect_outlier(data):\n",
        "  threshold=3\n",
        "  mean_1=np.mean(data)\n",
        "  std_1=np.std(data)\n",
        "\n",
        "  for y in data:\n",
        "    z_score=(y-mean_1)/std_1\n",
        "    if np.abs(z_score)>threshold:\n",
        "      outliers.append(y)\n",
        "  return outliers\n",
        "detect_outlier(bank['respondent_age'])\n",
        "\n",
        "# they are in ages 89 - 100 are outliers."
      ],
      "execution_count": 18,
      "outputs": [
        {
          "output_type": "execute_result",
          "data": {
            "text/plain": [
              "[95.0,\n",
              " 95.0,\n",
              " 95.0,\n",
              " 93.0,\n",
              " 90.0,\n",
              " 89.0,\n",
              " 95.0,\n",
              " 94.0,\n",
              " 95.0,\n",
              " 93.0,\n",
              " 90.0,\n",
              " 92.0,\n",
              " 92.0,\n",
              " 90.0,\n",
              " 90.0,\n",
              " 90.0,\n",
              " 91.0,\n",
              " 93.0,\n",
              " 95.0,\n",
              " 90.0,\n",
              " 89.0,\n",
              " 89.0,\n",
              " 95.0,\n",
              " 90.0,\n",
              " 89.0,\n",
              " 89.0,\n",
              " 89.0,\n",
              " 90.0,\n",
              " 95.0,\n",
              " 93.0,\n",
              " 92.0,\n",
              " 95.0,\n",
              " 94.0,\n",
              " 92.0,\n",
              " 95.0,\n",
              " 90.0,\n",
              " 95.0,\n",
              " 95.0,\n",
              " 89.0,\n",
              " 95.0,\n",
              " 98.0,\n",
              " 95.0,\n",
              " 97.0,\n",
              " 92.0,\n",
              " 89.0,\n",
              " 92.0,\n",
              " 89.0,\n",
              " 96.0,\n",
              " 89.0,\n",
              " 99.0,\n",
              " 89.0,\n",
              " 94.0,\n",
              " 91.0,\n",
              " 91.0,\n",
              " 90.0,\n",
              " 89.0,\n",
              " 89.0,\n",
              " 90.0,\n",
              " 95.0,\n",
              " 89.0,\n",
              " 90.0,\n",
              " 96.0,\n",
              " 100.0,\n",
              " 90.0,\n",
              " 90.0,\n",
              " 89.0,\n",
              " 98.0,\n",
              " 91.0,\n",
              " 92.0,\n",
              " 95.0,\n",
              " 89.0,\n",
              " 94.0,\n",
              " 99.0,\n",
              " 90.0,\n",
              " 90.0,\n",
              " 90.0,\n",
              " 90.0,\n",
              " 90.0,\n",
              " 100.0,\n",
              " 95.0,\n",
              " 91.0,\n",
              " 90.0,\n",
              " 95.0,\n",
              " 94.0,\n",
              " 90.0,\n",
              " 98.0,\n",
              " 98.0,\n",
              " 100.0,\n",
              " 100.0,\n",
              " 90.0,\n",
              " 90.0,\n",
              " 100.0,\n",
              " 90.0,\n",
              " 90.0,\n",
              " 96.0,\n",
              " 90.0,\n",
              " 90.0,\n",
              " 98.0,\n",
              " 95.0,\n",
              " 98.0,\n",
              " 90.0]"
            ]
          },
          "metadata": {},
          "execution_count": 18
        }
      ]
    },
    {
      "cell_type": "markdown",
      "metadata": {
        "id": "vvTLHQUKELVI"
      },
      "source": [
        "## Anomalies"
      ]
    },
    {
      "cell_type": "code",
      "metadata": {
        "id": "foMKODuQYGsG",
        "colab": {
          "base_uri": "https://localhost:8080/"
        },
        "outputId": "f5e22784-48c5-4704-838b-e8391b87b82f"
      },
      "source": [
        "# Checking for Anomalies\n",
        "# 'year' variable\n",
        "\n",
        "q1_year = bank['year'].quantile(.25)\n",
        "q3_year = bank['year'].quantile(.75)\n",
        "\n",
        "iqr_year = q3_year - q1_year\n",
        "\n",
        "# 'respondent_age' variable\n",
        "q1_age = bank['respondent_age'].quantile(.25)\n",
        "q3_age = bank['respondent_age'].quantile(.75)\n",
        "\n",
        "iqr_age = q3_age - q1_age\n",
        "\n",
        "# 'household_size' variable\n",
        "q1_size = bank['household_size'].quantile(.25)\n",
        "q3_size = bank['household_size'].quantile(.75)\n",
        "\n",
        "iqr_size = q3_size - q1_size\n",
        "\n",
        "print(iqr_year, iqr_age, iqr_size) \n",
        "\n"
      ],
      "execution_count": 19,
      "outputs": [
        {
          "output_type": "stream",
          "name": "stdout",
          "text": [
            "2.0 23.0 3.0\n"
          ]
        }
      ]
    },
    {
      "cell_type": "markdown",
      "metadata": {
        "id": "O_w9fi94EQfG"
      },
      "source": [
        "## Missing Data"
      ]
    },
    {
      "cell_type": "code",
      "metadata": {
        "id": "UAa1dzUob-PU",
        "colab": {
          "base_uri": "https://localhost:8080/"
        },
        "outputId": "4bd053d8-fa23-40f4-f080-bcf24b446694"
      },
      "source": [
        "# Checking whether we have any missing data in the dataframe\n",
        "\n",
        "\n",
        "np.count_nonzero(bank.isnull())\n",
        "bank.isnull().sum()"
      ],
      "execution_count": 20,
      "outputs": [
        {
          "output_type": "execute_result",
          "data": {
            "text/plain": [
              "country                   14\n",
              "year                       0\n",
              "uniqueid                   0\n",
              "has_a_bank_account        36\n",
              "location_type             15\n",
              "has_a_cell_phone          11\n",
              "household_size            28\n",
              "respondent_age            34\n",
              "respondent_gender         34\n",
              "relationship_with_head     4\n",
              "marital_status            32\n",
              "education_level           29\n",
              "occupation                30\n",
              "dtype: int64"
            ]
          },
          "metadata": {},
          "execution_count": 20
        }
      ]
    },
    {
      "cell_type": "code",
      "metadata": {
        "id": "5VLI2UltlJ4E"
      },
      "source": [
        "# Dealing with missing data\n",
        "# country is not categorical data like the rest of null values so we check what the data looks like for the records where 'country' variable is null\n",
        "\n",
        "bank[bank['country'].isna()]\n",
        "\n",
        "# From results we can replace the country variable from Null to Tanzania\n",
        "\n",
        "bank[\"country\"].fillna(\"Tanzania\", inplace = True)"
      ],
      "execution_count": 21,
      "outputs": []
    },
    {
      "cell_type": "code",
      "metadata": {
        "id": "HYV31bMDthxl",
        "colab": {
          "base_uri": "https://localhost:8080/"
        },
        "outputId": "a72c34a2-8a87-4056-838a-986e0362109a"
      },
      "source": [
        "# Verifying that the 'country' variable no longer has null values\n",
        "bank.isnull().sum()"
      ],
      "execution_count": 22,
      "outputs": [
        {
          "output_type": "execute_result",
          "data": {
            "text/plain": [
              "country                    0\n",
              "year                       0\n",
              "uniqueid                   0\n",
              "has_a_bank_account        36\n",
              "location_type             15\n",
              "has_a_cell_phone          11\n",
              "household_size            28\n",
              "respondent_age            34\n",
              "respondent_gender         34\n",
              "relationship_with_head     4\n",
              "marital_status            32\n",
              "education_level           29\n",
              "occupation                30\n",
              "dtype: int64"
            ]
          },
          "metadata": {},
          "execution_count": 22
        }
      ]
    },
    {
      "cell_type": "code",
      "metadata": {
        "id": "-XOY6taSvhAP",
        "colab": {
          "base_uri": "https://localhost:8080/",
          "height": 679
        },
        "outputId": "b4074465-9a51-4d55-890e-4a0ba9ecfed9"
      },
      "source": [
        "# The rest are categorical data that isn't easy to predict therefore we can drop all remaining null values\n",
        "\n",
        "bank.dropna(inplace=True)\n",
        "bank.reset_index(drop=True, inplace=True)\n",
        "bank"
      ],
      "execution_count": 23,
      "outputs": [
        {
          "output_type": "execute_result",
          "data": {
            "text/plain": [
              "      country  year       uniqueid has_a_bank_account location_type  \\\n",
              "0       Kenya  2018     uniqueid_1                Yes         Rural   \n",
              "1       Kenya  2018     uniqueid_2                 No         Rural   \n",
              "2       Kenya  2018     uniqueid_3                Yes         Urban   \n",
              "3       Kenya  2018     uniqueid_4                 No         Rural   \n",
              "4       Kenya  2018     uniqueid_5                 No         Urban   \n",
              "...       ...   ...            ...                ...           ...   \n",
              "23352  Uganda  2018  uniqueid_2113                 No         Rural   \n",
              "23353  Uganda  2018  uniqueid_2114                 No         Rural   \n",
              "23354  Uganda  2018  uniqueid_2115                 No         Rural   \n",
              "23355  Uganda  2018  uniqueid_2116                 No         Urban   \n",
              "23356  Uganda  2018  uniqueid_2117                 No         Rural   \n",
              "\n",
              "      has_a_cell_phone  household_size  respondent_age respondent_gender  \\\n",
              "0                  Yes             3.0            24.0            Female   \n",
              "1                   No             5.0            70.0            Female   \n",
              "2                  Yes             5.0            26.0              Male   \n",
              "3                  Yes             5.0            34.0            Female   \n",
              "4                   No             8.0            26.0              Male   \n",
              "...                ...             ...             ...               ...   \n",
              "23352              Yes             4.0            48.0            Female   \n",
              "23353              Yes             2.0            27.0            Female   \n",
              "23354              Yes             5.0            27.0            Female   \n",
              "23355              Yes             7.0            30.0            Female   \n",
              "23356              Yes            10.0            20.0              Male   \n",
              "\n",
              "      relationship_with_head           marital_status  \\\n",
              "0                     Spouse  Married/Living together   \n",
              "1          Head of Household                  Widowed   \n",
              "2             Other relative     Single/Never Married   \n",
              "3          Head of Household  Married/Living together   \n",
              "4                      Child     Single/Never Married   \n",
              "...                      ...                      ...   \n",
              "23352      Head of Household       Divorced/Seperated   \n",
              "23353      Head of Household     Single/Never Married   \n",
              "23354                 Parent                  Widowed   \n",
              "23355                 Parent       Divorced/Seperated   \n",
              "23356                  Child     Single/Never Married   \n",
              "\n",
              "                       education_level                 occupation  \n",
              "0                  Secondary education              Self employed  \n",
              "1                  No formal education       Government Dependent  \n",
              "2      Vocational/Specialised training              Self employed  \n",
              "3                    Primary education  Formally employed Private  \n",
              "4                    Primary education        Informally employed  \n",
              "...                                ...                        ...  \n",
              "23352              No formal education               Other Income  \n",
              "23353              Secondary education               Other Income  \n",
              "23354                Primary education               Other Income  \n",
              "23355              Secondary education              Self employed  \n",
              "23356              Secondary education                  No Income  \n",
              "\n",
              "[23357 rows x 13 columns]"
            ],
            "text/html": [
              "\n",
              "  <div id=\"df-b20a9796-b99b-471e-976a-0a6abbd5c0a8\">\n",
              "    <div class=\"colab-df-container\">\n",
              "      <div>\n",
              "<style scoped>\n",
              "    .dataframe tbody tr th:only-of-type {\n",
              "        vertical-align: middle;\n",
              "    }\n",
              "\n",
              "    .dataframe tbody tr th {\n",
              "        vertical-align: top;\n",
              "    }\n",
              "\n",
              "    .dataframe thead th {\n",
              "        text-align: right;\n",
              "    }\n",
              "</style>\n",
              "<table border=\"1\" class=\"dataframe\">\n",
              "  <thead>\n",
              "    <tr style=\"text-align: right;\">\n",
              "      <th></th>\n",
              "      <th>country</th>\n",
              "      <th>year</th>\n",
              "      <th>uniqueid</th>\n",
              "      <th>has_a_bank_account</th>\n",
              "      <th>location_type</th>\n",
              "      <th>has_a_cell_phone</th>\n",
              "      <th>household_size</th>\n",
              "      <th>respondent_age</th>\n",
              "      <th>respondent_gender</th>\n",
              "      <th>relationship_with_head</th>\n",
              "      <th>marital_status</th>\n",
              "      <th>education_level</th>\n",
              "      <th>occupation</th>\n",
              "    </tr>\n",
              "  </thead>\n",
              "  <tbody>\n",
              "    <tr>\n",
              "      <th>0</th>\n",
              "      <td>Kenya</td>\n",
              "      <td>2018</td>\n",
              "      <td>uniqueid_1</td>\n",
              "      <td>Yes</td>\n",
              "      <td>Rural</td>\n",
              "      <td>Yes</td>\n",
              "      <td>3.0</td>\n",
              "      <td>24.0</td>\n",
              "      <td>Female</td>\n",
              "      <td>Spouse</td>\n",
              "      <td>Married/Living together</td>\n",
              "      <td>Secondary education</td>\n",
              "      <td>Self employed</td>\n",
              "    </tr>\n",
              "    <tr>\n",
              "      <th>1</th>\n",
              "      <td>Kenya</td>\n",
              "      <td>2018</td>\n",
              "      <td>uniqueid_2</td>\n",
              "      <td>No</td>\n",
              "      <td>Rural</td>\n",
              "      <td>No</td>\n",
              "      <td>5.0</td>\n",
              "      <td>70.0</td>\n",
              "      <td>Female</td>\n",
              "      <td>Head of Household</td>\n",
              "      <td>Widowed</td>\n",
              "      <td>No formal education</td>\n",
              "      <td>Government Dependent</td>\n",
              "    </tr>\n",
              "    <tr>\n",
              "      <th>2</th>\n",
              "      <td>Kenya</td>\n",
              "      <td>2018</td>\n",
              "      <td>uniqueid_3</td>\n",
              "      <td>Yes</td>\n",
              "      <td>Urban</td>\n",
              "      <td>Yes</td>\n",
              "      <td>5.0</td>\n",
              "      <td>26.0</td>\n",
              "      <td>Male</td>\n",
              "      <td>Other relative</td>\n",
              "      <td>Single/Never Married</td>\n",
              "      <td>Vocational/Specialised training</td>\n",
              "      <td>Self employed</td>\n",
              "    </tr>\n",
              "    <tr>\n",
              "      <th>3</th>\n",
              "      <td>Kenya</td>\n",
              "      <td>2018</td>\n",
              "      <td>uniqueid_4</td>\n",
              "      <td>No</td>\n",
              "      <td>Rural</td>\n",
              "      <td>Yes</td>\n",
              "      <td>5.0</td>\n",
              "      <td>34.0</td>\n",
              "      <td>Female</td>\n",
              "      <td>Head of Household</td>\n",
              "      <td>Married/Living together</td>\n",
              "      <td>Primary education</td>\n",
              "      <td>Formally employed Private</td>\n",
              "    </tr>\n",
              "    <tr>\n",
              "      <th>4</th>\n",
              "      <td>Kenya</td>\n",
              "      <td>2018</td>\n",
              "      <td>uniqueid_5</td>\n",
              "      <td>No</td>\n",
              "      <td>Urban</td>\n",
              "      <td>No</td>\n",
              "      <td>8.0</td>\n",
              "      <td>26.0</td>\n",
              "      <td>Male</td>\n",
              "      <td>Child</td>\n",
              "      <td>Single/Never Married</td>\n",
              "      <td>Primary education</td>\n",
              "      <td>Informally employed</td>\n",
              "    </tr>\n",
              "    <tr>\n",
              "      <th>...</th>\n",
              "      <td>...</td>\n",
              "      <td>...</td>\n",
              "      <td>...</td>\n",
              "      <td>...</td>\n",
              "      <td>...</td>\n",
              "      <td>...</td>\n",
              "      <td>...</td>\n",
              "      <td>...</td>\n",
              "      <td>...</td>\n",
              "      <td>...</td>\n",
              "      <td>...</td>\n",
              "      <td>...</td>\n",
              "      <td>...</td>\n",
              "    </tr>\n",
              "    <tr>\n",
              "      <th>23352</th>\n",
              "      <td>Uganda</td>\n",
              "      <td>2018</td>\n",
              "      <td>uniqueid_2113</td>\n",
              "      <td>No</td>\n",
              "      <td>Rural</td>\n",
              "      <td>Yes</td>\n",
              "      <td>4.0</td>\n",
              "      <td>48.0</td>\n",
              "      <td>Female</td>\n",
              "      <td>Head of Household</td>\n",
              "      <td>Divorced/Seperated</td>\n",
              "      <td>No formal education</td>\n",
              "      <td>Other Income</td>\n",
              "    </tr>\n",
              "    <tr>\n",
              "      <th>23353</th>\n",
              "      <td>Uganda</td>\n",
              "      <td>2018</td>\n",
              "      <td>uniqueid_2114</td>\n",
              "      <td>No</td>\n",
              "      <td>Rural</td>\n",
              "      <td>Yes</td>\n",
              "      <td>2.0</td>\n",
              "      <td>27.0</td>\n",
              "      <td>Female</td>\n",
              "      <td>Head of Household</td>\n",
              "      <td>Single/Never Married</td>\n",
              "      <td>Secondary education</td>\n",
              "      <td>Other Income</td>\n",
              "    </tr>\n",
              "    <tr>\n",
              "      <th>23354</th>\n",
              "      <td>Uganda</td>\n",
              "      <td>2018</td>\n",
              "      <td>uniqueid_2115</td>\n",
              "      <td>No</td>\n",
              "      <td>Rural</td>\n",
              "      <td>Yes</td>\n",
              "      <td>5.0</td>\n",
              "      <td>27.0</td>\n",
              "      <td>Female</td>\n",
              "      <td>Parent</td>\n",
              "      <td>Widowed</td>\n",
              "      <td>Primary education</td>\n",
              "      <td>Other Income</td>\n",
              "    </tr>\n",
              "    <tr>\n",
              "      <th>23355</th>\n",
              "      <td>Uganda</td>\n",
              "      <td>2018</td>\n",
              "      <td>uniqueid_2116</td>\n",
              "      <td>No</td>\n",
              "      <td>Urban</td>\n",
              "      <td>Yes</td>\n",
              "      <td>7.0</td>\n",
              "      <td>30.0</td>\n",
              "      <td>Female</td>\n",
              "      <td>Parent</td>\n",
              "      <td>Divorced/Seperated</td>\n",
              "      <td>Secondary education</td>\n",
              "      <td>Self employed</td>\n",
              "    </tr>\n",
              "    <tr>\n",
              "      <th>23356</th>\n",
              "      <td>Uganda</td>\n",
              "      <td>2018</td>\n",
              "      <td>uniqueid_2117</td>\n",
              "      <td>No</td>\n",
              "      <td>Rural</td>\n",
              "      <td>Yes</td>\n",
              "      <td>10.0</td>\n",
              "      <td>20.0</td>\n",
              "      <td>Male</td>\n",
              "      <td>Child</td>\n",
              "      <td>Single/Never Married</td>\n",
              "      <td>Secondary education</td>\n",
              "      <td>No Income</td>\n",
              "    </tr>\n",
              "  </tbody>\n",
              "</table>\n",
              "<p>23357 rows × 13 columns</p>\n",
              "</div>\n",
              "      <button class=\"colab-df-convert\" onclick=\"convertToInteractive('df-b20a9796-b99b-471e-976a-0a6abbd5c0a8')\"\n",
              "              title=\"Convert this dataframe to an interactive table.\"\n",
              "              style=\"display:none;\">\n",
              "        \n",
              "  <svg xmlns=\"http://www.w3.org/2000/svg\" height=\"24px\"viewBox=\"0 0 24 24\"\n",
              "       width=\"24px\">\n",
              "    <path d=\"M0 0h24v24H0V0z\" fill=\"none\"/>\n",
              "    <path d=\"M18.56 5.44l.94 2.06.94-2.06 2.06-.94-2.06-.94-.94-2.06-.94 2.06-2.06.94zm-11 1L8.5 8.5l.94-2.06 2.06-.94-2.06-.94L8.5 2.5l-.94 2.06-2.06.94zm10 10l.94 2.06.94-2.06 2.06-.94-2.06-.94-.94-2.06-.94 2.06-2.06.94z\"/><path d=\"M17.41 7.96l-1.37-1.37c-.4-.4-.92-.59-1.43-.59-.52 0-1.04.2-1.43.59L10.3 9.45l-7.72 7.72c-.78.78-.78 2.05 0 2.83L4 21.41c.39.39.9.59 1.41.59.51 0 1.02-.2 1.41-.59l7.78-7.78 2.81-2.81c.8-.78.8-2.07 0-2.86zM5.41 20L4 18.59l7.72-7.72 1.47 1.35L5.41 20z\"/>\n",
              "  </svg>\n",
              "      </button>\n",
              "      \n",
              "  <style>\n",
              "    .colab-df-container {\n",
              "      display:flex;\n",
              "      flex-wrap:wrap;\n",
              "      gap: 12px;\n",
              "    }\n",
              "\n",
              "    .colab-df-convert {\n",
              "      background-color: #E8F0FE;\n",
              "      border: none;\n",
              "      border-radius: 50%;\n",
              "      cursor: pointer;\n",
              "      display: none;\n",
              "      fill: #1967D2;\n",
              "      height: 32px;\n",
              "      padding: 0 0 0 0;\n",
              "      width: 32px;\n",
              "    }\n",
              "\n",
              "    .colab-df-convert:hover {\n",
              "      background-color: #E2EBFA;\n",
              "      box-shadow: 0px 1px 2px rgba(60, 64, 67, 0.3), 0px 1px 3px 1px rgba(60, 64, 67, 0.15);\n",
              "      fill: #174EA6;\n",
              "    }\n",
              "\n",
              "    [theme=dark] .colab-df-convert {\n",
              "      background-color: #3B4455;\n",
              "      fill: #D2E3FC;\n",
              "    }\n",
              "\n",
              "    [theme=dark] .colab-df-convert:hover {\n",
              "      background-color: #434B5C;\n",
              "      box-shadow: 0px 1px 3px 1px rgba(0, 0, 0, 0.15);\n",
              "      filter: drop-shadow(0px 1px 2px rgba(0, 0, 0, 0.3));\n",
              "      fill: #FFFFFF;\n",
              "    }\n",
              "  </style>\n",
              "\n",
              "      <script>\n",
              "        const buttonEl =\n",
              "          document.querySelector('#df-b20a9796-b99b-471e-976a-0a6abbd5c0a8 button.colab-df-convert');\n",
              "        buttonEl.style.display =\n",
              "          google.colab.kernel.accessAllowed ? 'block' : 'none';\n",
              "\n",
              "        async function convertToInteractive(key) {\n",
              "          const element = document.querySelector('#df-b20a9796-b99b-471e-976a-0a6abbd5c0a8');\n",
              "          const dataTable =\n",
              "            await google.colab.kernel.invokeFunction('convertToInteractive',\n",
              "                                                     [key], {});\n",
              "          if (!dataTable) return;\n",
              "\n",
              "          const docLinkHtml = 'Like what you see? Visit the ' +\n",
              "            '<a target=\"_blank\" href=https://colab.research.google.com/notebooks/data_table.ipynb>data table notebook</a>'\n",
              "            + ' to learn more about interactive tables.';\n",
              "          element.innerHTML = '';\n",
              "          dataTable['output_type'] = 'display_data';\n",
              "          await google.colab.output.renderOutput(dataTable, element);\n",
              "          const docLink = document.createElement('div');\n",
              "          docLink.innerHTML = docLinkHtml;\n",
              "          element.appendChild(docLink);\n",
              "        }\n",
              "      </script>\n",
              "    </div>\n",
              "  </div>\n",
              "  "
            ]
          },
          "metadata": {},
          "execution_count": 23
        }
      ]
    },
    {
      "cell_type": "code",
      "metadata": {
        "id": "acC_q1S8xQYf",
        "colab": {
          "base_uri": "https://localhost:8080/"
        },
        "outputId": "d677542d-6004-4035-d5c1-74dfd30da7c5"
      },
      "source": [
        "# Confirming that there are no nulls anymore after the drop\n",
        "\n",
        "bank.isnull().sum()"
      ],
      "execution_count": 24,
      "outputs": [
        {
          "output_type": "execute_result",
          "data": {
            "text/plain": [
              "country                   0\n",
              "year                      0\n",
              "uniqueid                  0\n",
              "has_a_bank_account        0\n",
              "location_type             0\n",
              "has_a_cell_phone          0\n",
              "household_size            0\n",
              "respondent_age            0\n",
              "respondent_gender         0\n",
              "relationship_with_head    0\n",
              "marital_status            0\n",
              "education_level           0\n",
              "occupation                0\n",
              "dtype: int64"
            ]
          },
          "metadata": {},
          "execution_count": 24
        }
      ]
    },
    {
      "cell_type": "markdown",
      "metadata": {
        "id": "oG6sFZk_yOT8"
      },
      "source": [
        "# Exploratory Analysis"
      ]
    },
    {
      "cell_type": "markdown",
      "metadata": {
        "id": "XMI0aU_2DoTR"
      },
      "source": [
        "## Univariate Analysis"
      ]
    },
    {
      "cell_type": "markdown",
      "metadata": {
        "id": "C8nI77iIBXpE"
      },
      "source": [
        "### Visualizations"
      ]
    },
    {
      "cell_type": "code",
      "metadata": {
        "id": "LQqw7JhD0GCB",
        "colab": {
          "base_uri": "https://localhost:8080/"
        },
        "outputId": "56d3933a-fc45-42d7-c0ed-63cef4f7420f"
      },
      "source": [
        "# Ploting the univariate summaries and recording our observations\n",
        "# To show how many times each level of education exists in the dataset we plot a frequecy table.\n",
        "\n",
        "bank.education_level.value_counts()"
      ],
      "execution_count": 25,
      "outputs": [
        {
          "output_type": "execute_result",
          "data": {
            "text/plain": [
              "Primary education                  12694\n",
              "No formal education                 4474\n",
              "Secondary education                 4209\n",
              "Tertiary education                  1144\n",
              "Vocational/Specialised training      801\n",
              "6                                     27\n",
              "Other/Dont know/RTA                    8\n",
              "Name: education_level, dtype: int64"
            ]
          },
          "metadata": {},
          "execution_count": 25
        }
      ]
    },
    {
      "cell_type": "code",
      "metadata": {
        "id": "iRHUvzC55Tdf",
        "colab": {
          "base_uri": "https://localhost:8080/",
          "height": 494
        },
        "outputId": "8046992c-d175-408a-f31e-908799ad9822"
      },
      "source": [
        "# We can plot various bar charts to help visualize the statistics\n",
        "\n",
        "fig,ax=plt.subplots(1,2,figsize=(15,6))\n",
        "sns.countplot('has_a_bank_account',data=bank,ax=ax[0])\n",
        "ax[0].set_title('Bank Account Status')\n",
        "sns.countplot('location_type',data=bank,ax=ax[1])\n",
        "ax[1].set_title('Location Type')\n",
        "\n",
        "plt.show()"
      ],
      "execution_count": 28,
      "outputs": [
        {
          "output_type": "stream",
          "name": "stderr",
          "text": [
            "/usr/local/lib/python3.7/dist-packages/seaborn/_decorators.py:43: FutureWarning: Pass the following variable as a keyword arg: x. From version 0.12, the only valid positional argument will be `data`, and passing other arguments without an explicit keyword will result in an error or misinterpretation.\n",
            "  FutureWarning\n",
            "/usr/local/lib/python3.7/dist-packages/seaborn/_decorators.py:43: FutureWarning: Pass the following variable as a keyword arg: x. From version 0.12, the only valid positional argument will be `data`, and passing other arguments without an explicit keyword will result in an error or misinterpretation.\n",
            "  FutureWarning\n"
          ]
        },
        {
          "output_type": "display_data",
          "data": {
            "text/plain": [
              "<Figure size 1080x432 with 2 Axes>"
            ],
            "image/png": "[encoded data removed]"
          },
          "metadata": {
            "needs_background": "light"
          }
        }
      ]
    },
    {
      "cell_type": "code",
      "metadata": {
        "id": "lxmq1hnkCV3F",
        "colab": {
          "base_uri": "https://localhost:8080/",
          "height": 430
        },
        "outputId": "2ad6a48f-0cd0-4278-cb11-126a8e0d32de"
      },
      "source": [
        "# Bar chart for 'marital status' variable\n",
        "\n",
        "bank['marital_status'].value_counts().plot.bar(rot =0,figsize=(10,5))\n",
        "plt.xlabel(\"Marital status\")\n",
        "plt.ylabel(\"Count\")\n",
        "plt.title(\"Marital Status of the Respondent \")\n",
        "plt.xticks(rotation = 45)\n",
        "plt.show()"
      ],
      "execution_count": 29,
      "outputs": [
        {
          "output_type": "display_data",
          "data": {
            "text/plain": [
              "<Figure size 720x360 with 1 Axes>"
            ],
            "image/png": "[encoded data removed]"
          },
          "metadata": {
            "needs_background": "light"
          }
        }
      ]
    },
    {
      "cell_type": "code",
      "metadata": {
        "id": "LvV5-0_XEQL-",
        "colab": {
          "base_uri": "https://localhost:8080/",
          "height": 415
        },
        "outputId": "f3027dbf-d58b-4387-e2f1-157aa1ffbaf9"
      },
      "source": [
        "# Bar chart for 'relation to household head' variable\n",
        "bank['relationship_with_head'].value_counts().plot.bar(rot =0,figsize=(10,5))\n",
        "plt.xlabel(\"relation to household head\")\n",
        "plt.ylabel(\"Count\")\n",
        "plt.title(\"How the Respondent is Related to Household Head\")\n",
        "plt.xticks(rotation = 45)\n",
        "plt.show()"
      ],
      "execution_count": 30,
      "outputs": [
        {
          "output_type": "display_data",
          "data": {
            "text/plain": [
              "<Figure size 720x360 with 1 Axes>"
            ],
            "image/png": "[encoded data removed]"
          },
          "metadata": {
            "needs_background": "light"
          }
        }
      ]
    },
    {
      "cell_type": "markdown",
      "metadata": {
        "id": "LKIJJd_LBdL_"
      },
      "source": [
        "### Measures of Central Tendency"
      ]
    },
    {
      "cell_type": "code",
      "metadata": {
        "id": "gsgNiAj0BhOC",
        "colab": {
          "base_uri": "https://localhost:8080/"
        },
        "outputId": "c2ee988f-d9d4-4803-cc71-72f7d3ec9c5b"
      },
      "source": [
        "# We can check the mean, mode and median of ages in the dataset\n",
        "mean_age = bank['respondent_age'].mean()\n",
        "median_age = bank['respondent_age'].median()\n",
        "mode_age = bank['respondent_age'].mode()\n",
        "print(mean_age, median_age, mode_age)\n",
        "\n",
        "# Mean age is 38, median age is 35 and mode age is 30"
      ],
      "execution_count": 32,
      "outputs": [
        {
          "output_type": "stream",
          "name": "stdout",
          "text": [
            "38.80532602645888 35.0 0    30.0\n",
            "dtype: float64\n"
          ]
        }
      ]
    },
    {
      "cell_type": "code",
      "metadata": {
        "id": "oNGm1IYDDg-8",
        "colab": {
          "base_uri": "https://localhost:8080/"
        },
        "outputId": "9c3bc193-19d5-4e38-fa99-091649337eb1"
      },
      "source": [
        "# Checking the mean, mode and median of hosehold sizes in the dataset\n",
        "mean_hsize = bank['household_size'].mean()\n",
        "median_hsize = bank['household_size'].median()\n",
        "mode_hsize = bank['household_size'].mode()\n",
        "print(mean_hsize, median_hsize, mode_hsize)\n",
        "\n",
        "# The mean is 3 median is 3 and mode is 2."
      ],
      "execution_count": 33,
      "outputs": [
        {
          "output_type": "stream",
          "name": "stdout",
          "text": [
            "3.687588303292375 3.0 0    2.0\n",
            "dtype: float64\n"
          ]
        }
      ]
    },
    {
      "cell_type": "markdown",
      "metadata": {
        "id": "IcLnjrmMGNUS"
      },
      "source": [
        "### Measures of Dispersion"
      ]
    },
    {
      "cell_type": "code",
      "metadata": {
        "id": "zDmUy9seGQu2",
        "colab": {
          "base_uri": "https://localhost:8080/"
        },
        "outputId": "9f67ad21-b94e-4415-d482-2bb07abafa4e"
      },
      "source": [
        "# Checking the various measures of dispersion for the age variable\n",
        "# standard deviation, variance, range, interquatile range, skewness and kurtosis\n",
        "\n",
        "age_std = bank['respondent_age'].std()\n",
        "age_var = bank['respondent_age'].var()\n",
        "\n",
        "age_max = bank['respondent_age'].max()\n",
        "age_min = bank['respondent_age'].min()\n",
        "age_range = age_max - age_min\n",
        "\n",
        "age_skew = bank['respondent_age'].skew()\n",
        "age_kurt = bank['respondent_age'].kurt()\n",
        "\n",
        "print('Standard Deviation of Age variable is ' + str(age_std))\n",
        "print('Variance of Age variable is ' + str(age_var))\n",
        "print('Range of Age variable is ' + str(age_range))\n",
        "print('Skewness of Age variable is ' + str(age_skew))\n",
        "print('Kurtosis of Age variable is ' + str(age_kurt))\n"
      ],
      "execution_count": 34,
      "outputs": [
        {
          "output_type": "stream",
          "name": "stdout",
          "text": [
            "Standard Deviation of Age variable is 16.521527131910133\n",
            "Variance of Age variable is 272.96085877044266\n",
            "Range of Age variable is 84.0\n",
            "Skewness of Age variable is 0.8403528775777741\n",
            "Kurtosis of Age variable is 0.09719678738690396\n"
          ]
        }
      ]
    },
    {
      "cell_type": "code",
      "metadata": {
        "id": "Oi6hYFDtH2kk",
        "colab": {
          "base_uri": "https://localhost:8080/"
        },
        "outputId": "f1bd11fe-1137-4f8a-ebb5-fd40a156052d"
      },
      "source": [
        "# Summary of statistics for age attribute\n",
        "\n",
        "bank['respondent_age'].describe()"
      ],
      "execution_count": 35,
      "outputs": [
        {
          "output_type": "execute_result",
          "data": {
            "text/plain": [
              "count    23357.000000\n",
              "mean        38.805326\n",
              "std         16.521527\n",
              "min         16.000000\n",
              "25%         26.000000\n",
              "50%         35.000000\n",
              "75%         49.000000\n",
              "max        100.000000\n",
              "Name: respondent_age, dtype: float64"
            ]
          },
          "metadata": {},
          "execution_count": 35
        }
      ]
    },
    {
      "cell_type": "code",
      "metadata": {
        "id": "eqIef9dQIuYS",
        "colab": {
          "base_uri": "https://localhost:8080/"
        },
        "outputId": "de6b4c6a-95bb-4810-98e4-73faa968a5eb"
      },
      "source": [
        "# Checking the various measures of dispersion for the household size variable\n",
        "# standard deviation, variance, range, interquatile range, skewness and kurtosis\n",
        "\n",
        "hsize_std = bank['household_size'].std()\n",
        "hsize_var = bank['household_size'].var()\n",
        "\n",
        "hsize_max = bank['household_size'].max()\n",
        "hsize_min = bank['household_size'].min()\n",
        "hsize_range = hsize_max - hsize_min\n",
        "\n",
        "hsize_skew = bank['household_size'].skew()\n",
        "hsize_kurt = bank['household_size'].kurt()\n",
        "\n",
        "print('Standard Deviation of Household Size variable is ' + str(hsize_std))\n",
        "print('Variance of Household Size variable is ' + str(hsize_var))\n",
        "print('Range of Household Size variable is ' + str(hsize_range))\n",
        "print('Skewness of Household Size variable is ' + str(hsize_skew))\n",
        "print('Kurtosis of Household Size variable is ' + str(hsize_kurt))"
      ],
      "execution_count": 36,
      "outputs": [
        {
          "output_type": "stream",
          "name": "stdout",
          "text": [
            "Standard Deviation of Household Size variable is 2.2809903775845206\n",
            "Variance of Household Size variable is 5.202917102633174\n",
            "Range of Household Size variable is 21.0\n",
            "Skewness of Household Size variable is 0.9747175002958918\n",
            "Kurtosis of Household Size variable is 1.1550663154603718\n"
          ]
        }
      ]
    },
    {
      "cell_type": "code",
      "metadata": {
        "id": "c_G4x3H9JaMC",
        "colab": {
          "base_uri": "https://localhost:8080/"
        },
        "outputId": "17c8f7e1-81ac-44ac-df0b-07b8d758f24d"
      },
      "source": [
        "# Summary of statistics for household size attribute\n",
        "\n",
        "bank['household_size'].describe()"
      ],
      "execution_count": 37,
      "outputs": [
        {
          "output_type": "execute_result",
          "data": {
            "text/plain": [
              "count    23357.000000\n",
              "mean         3.687588\n",
              "std          2.280990\n",
              "min          0.000000\n",
              "25%          2.000000\n",
              "50%          3.000000\n",
              "75%          5.000000\n",
              "max         21.000000\n",
              "Name: household_size, dtype: float64"
            ]
          },
          "metadata": {},
          "execution_count": 37
        }
      ]
    },
    {
      "cell_type": "markdown",
      "metadata": {
        "id": "VtqFXjuZDu8H"
      },
      "source": [
        "## Bivariate Analysis"
      ]
    },
    {
      "cell_type": "markdown",
      "metadata": {
        "id": "rqZMAhBSP296"
      },
      "source": [
        "> In this analysis, we will check the relationship between bank account status and other variables. This is going to help us compare the variables to having a bank account."
      ]
    },
    {
      "cell_type": "code",
      "metadata": {
        "id": "ycpn9rtqKnVp",
        "colab": {
          "base_uri": "https://localhost:8080/",
          "height": 550
        },
        "outputId": "648bb530-5354-4622-a8b2-c4f3a6541b07"
      },
      "source": [
        "# Ploting the bivariate summaries.\n",
        "\n",
        "sns.pairplot(bank)\n",
        "plt.show()"
      ],
      "execution_count": 38,
      "outputs": [
        {
          "output_type": "display_data",
          "data": {
            "text/plain": [
              "<Figure size 540x540 with 12 Axes>"
            ],
            "image/png": "[encoded data removed]"
          },
          "metadata": {
            "needs_background": "light"
          }
        }
      ]
    },
    {
      "cell_type": "code",
      "metadata": {
        "id": "zTDm3-G4LNDT",
        "colab": {
          "base_uri": "https://localhost:8080/",
          "height": 270
        },
        "outputId": "03a0faec-5111-498a-b4c4-12308675dcb0"
      },
      "source": [
        "# Plotting the Pearson correlation coefficient\n",
        "# There is no correlation coefficients for the coefficints are almost zero.\n",
        "\n",
        "sns.heatmap(bank.corr(),annot=True)\n",
        "plt.show()"
      ],
      "execution_count": 39,
      "outputs": [
        {
          "output_type": "display_data",
          "data": {
            "text/plain": [
              "<Figure size 432x288 with 2 Axes>"
            ],
            "image/png": "[encoded data removed]"
          },
          "metadata": {
            "needs_background": "light"
          }
        }
      ]
    },
    {
      "cell_type": "code",
      "metadata": {
        "id": "YNg363GFh0F-",
        "colab": {
          "base_uri": "https://localhost:8080/",
          "height": 238
        },
        "outputId": "acfc991d-7d44-41b3-d3d4-c409cd98fd93"
      },
      "source": [
        "# We can compare has bank accounts to having cell phones \n",
        "\n",
        "pd.crosstab([bank.has_a_cell_phone,bank.has_a_bank_account]\n",
        "            ,bank.marital_status,margins=True).style.background_gradient(cmap='Pastel1_r')\n",
        "\n",
        "#Individuals who have cell phones are likely to have have bank accounts compared to those who don't have cell phones.\n"
      ],
      "execution_count": 42,
      "outputs": [
        {
          "output_type": "execute_result",
          "data": {
            "text/plain": [
              "<pandas.io.formats.style.Styler at 0x7fc51c19c110>"
            ],
            "text/html": [
              "<style type=\"text/css\">\n",
              "#T_ceffc_row0_col0, #T_ceffc_row0_col3, #T_ceffc_row0_col5, #T_ceffc_row3_col1 {\n",
              "  background-color: #e5d8bd;\n",
              "  color: #000000;\n",
              "}\n",
              "#T_ceffc_row0_col1, #T_ceffc_row0_col2, #T_ceffc_row3_col2, #T_ceffc_row3_col3, #T_ceffc_row3_col5 {\n",
              "  background-color: #fddaec;\n",
              "  color: #000000;\n",
              "}\n",
              "#T_ceffc_row0_col4 {\n",
              "  background-color: #ffffcc;\n",
              "  color: #000000;\n",
              "}\n",
              "#T_ceffc_row1_col0, #T_ceffc_row1_col1, #T_ceffc_row1_col2, #T_ceffc_row1_col3, #T_ceffc_row1_col4, #T_ceffc_row1_col5, #T_ceffc_row3_col0, #T_ceffc_row3_col4 {\n",
              "  background-color: #f2f2f2;\n",
              "  color: #000000;\n",
              "}\n",
              "#T_ceffc_row2_col0, #T_ceffc_row2_col1, #T_ceffc_row2_col2, #T_ceffc_row2_col3, #T_ceffc_row2_col5 {\n",
              "  background-color: #decbe4;\n",
              "  color: #000000;\n",
              "}\n",
              "#T_ceffc_row2_col4 {\n",
              "  background-color: #fed9a6;\n",
              "  color: #000000;\n",
              "}\n",
              "#T_ceffc_row4_col0, #T_ceffc_row4_col1, #T_ceffc_row4_col2, #T_ceffc_row4_col3, #T_ceffc_row4_col4, #T_ceffc_row4_col5 {\n",
              "  background-color: #fbb4ae;\n",
              "  color: #000000;\n",
              "}\n",
              "</style>\n",
              "<table id=\"T_ceffc_\" class=\"dataframe\">\n",
              "  <thead>\n",
              "    <tr>\n",
              "      <th class=\"blank\" >&nbsp;</th>\n",
              "      <th class=\"index_name level0\" >marital_status</th>\n",
              "      <th class=\"col_heading level0 col0\" >Divorced/Seperated</th>\n",
              "      <th class=\"col_heading level0 col1\" >Dont know</th>\n",
              "      <th class=\"col_heading level0 col2\" >Married/Living together</th>\n",
              "      <th class=\"col_heading level0 col3\" >Single/Never Married</th>\n",
              "      <th class=\"col_heading level0 col4\" >Widowed</th>\n",
              "      <th class=\"col_heading level0 col5\" >All</th>\n",
              "    </tr>\n",
              "    <tr>\n",
              "      <th class=\"index_name level0\" >has_a_cell_phone</th>\n",
              "      <th class=\"index_name level1\" >has_a_bank_account</th>\n",
              "      <th class=\"blank col0\" >&nbsp;</th>\n",
              "      <th class=\"blank col1\" >&nbsp;</th>\n",
              "      <th class=\"blank col2\" >&nbsp;</th>\n",
              "      <th class=\"blank col3\" >&nbsp;</th>\n",
              "      <th class=\"blank col4\" >&nbsp;</th>\n",
              "      <th class=\"blank col5\" >&nbsp;</th>\n",
              "    </tr>\n",
              "  </thead>\n",
              "  <tbody>\n",
              "    <tr>\n",
              "      <th id=\"T_ceffc_level0_row0\" class=\"row_heading level0 row0\" rowspan=\"2\">No</th>\n",
              "      <th id=\"T_ceffc_level1_row0\" class=\"row_heading level1 row0\" >No</th>\n",
              "      <td id=\"T_ceffc_row0_col0\" class=\"data row0 col0\" >606</td>\n",
              "      <td id=\"T_ceffc_row0_col1\" class=\"data row0 col1\" >1</td>\n",
              "      <td id=\"T_ceffc_row0_col2\" class=\"data row0 col2\" >1910</td>\n",
              "      <td id=\"T_ceffc_row0_col3\" class=\"data row0 col3\" >2322</td>\n",
              "      <td id=\"T_ceffc_row0_col4\" class=\"data row0 col4\" >1074</td>\n",
              "      <td id=\"T_ceffc_row0_col5\" class=\"data row0 col5\" >5913</td>\n",
              "    </tr>\n",
              "    <tr>\n",
              "      <th id=\"T_ceffc_level1_row1\" class=\"row_heading level1 row1\" >Yes</th>\n",
              "      <td id=\"T_ceffc_row1_col0\" class=\"data row1 col0\" >7</td>\n",
              "      <td id=\"T_ceffc_row1_col1\" class=\"data row1 col1\" >0</td>\n",
              "      <td id=\"T_ceffc_row1_col2\" class=\"data row1 col2\" >41</td>\n",
              "      <td id=\"T_ceffc_row1_col3\" class=\"data row1 col3\" >30</td>\n",
              "      <td id=\"T_ceffc_row1_col4\" class=\"data row1 col4\" >26</td>\n",
              "      <td id=\"T_ceffc_row1_col5\" class=\"data row1 col5\" >104</td>\n",
              "    </tr>\n",
              "    <tr>\n",
              "      <th id=\"T_ceffc_level0_row2\" class=\"row_heading level0 row2\" rowspan=\"2\">Yes</th>\n",
              "      <th id=\"T_ceffc_level1_row2\" class=\"row_heading level1 row2\" >No</th>\n",
              "      <td id=\"T_ceffc_row2_col0\" class=\"data row2 col0\" >1214</td>\n",
              "      <td id=\"T_ceffc_row2_col1\" class=\"data row2 col1\" >5</td>\n",
              "      <td id=\"T_ceffc_row2_col2\" class=\"data row2 col2\" >6931</td>\n",
              "      <td id=\"T_ceffc_row2_col3\" class=\"data row2 col3\" >4626</td>\n",
              "      <td id=\"T_ceffc_row2_col4\" class=\"data row2 col4\" >1371</td>\n",
              "      <td id=\"T_ceffc_row2_col5\" class=\"data row2 col5\" >14147</td>\n",
              "    </tr>\n",
              "    <tr>\n",
              "      <th id=\"T_ceffc_level1_row3\" class=\"row_heading level1 row3\" >Yes</th>\n",
              "      <td id=\"T_ceffc_row3_col0\" class=\"data row3 col0\" >225</td>\n",
              "      <td id=\"T_ceffc_row3_col1\" class=\"data row3 col1\" >2</td>\n",
              "      <td id=\"T_ceffc_row3_col2\" class=\"data row3 col2\" >1820</td>\n",
              "      <td id=\"T_ceffc_row3_col3\" class=\"data row3 col3\" >929</td>\n",
              "      <td id=\"T_ceffc_row3_col4\" class=\"data row3 col4\" >217</td>\n",
              "      <td id=\"T_ceffc_row3_col5\" class=\"data row3 col5\" >3193</td>\n",
              "    </tr>\n",
              "    <tr>\n",
              "      <th id=\"T_ceffc_level0_row4\" class=\"row_heading level0 row4\" >All</th>\n",
              "      <th id=\"T_ceffc_level1_row4\" class=\"row_heading level1 row4\" ></th>\n",
              "      <td id=\"T_ceffc_row4_col0\" class=\"data row4 col0\" >2052</td>\n",
              "      <td id=\"T_ceffc_row4_col1\" class=\"data row4 col1\" >8</td>\n",
              "      <td id=\"T_ceffc_row4_col2\" class=\"data row4 col2\" >10702</td>\n",
              "      <td id=\"T_ceffc_row4_col3\" class=\"data row4 col3\" >7907</td>\n",
              "      <td id=\"T_ceffc_row4_col4\" class=\"data row4 col4\" >2688</td>\n",
              "      <td id=\"T_ceffc_row4_col5\" class=\"data row4 col5\" >23357</td>\n",
              "    </tr>\n",
              "  </tbody>\n",
              "</table>\n"
            ]
          },
          "metadata": {},
          "execution_count": 42
        }
      ]
    },
    {
      "cell_type": "code",
      "metadata": {
        "id": "75jqCuigX0dj",
        "colab": {
          "base_uri": "https://localhost:8080/",
          "height": 238
        },
        "outputId": "00dfe556-c11f-4c82-aa9a-20296da29fab"
      },
      "source": [
        "# We can compare has a bank account to gender and locations in urban and rurals.\n",
        "pd.crosstab([bank.respondent_gender,bank.has_a_bank_account]\n",
        "            ,bank.location_type,margins=True).style.background_gradient(cmap='Pastel1_r')\n",
        "\n",
        "# There are more men with bank accounts compared to women\n",
        "# Females in urban areas have bank accounts compared to rural areas.\n",
        "# Males in rural areas have bank accounts compared to urban areas."
      ],
      "execution_count": 41,
      "outputs": [
        {
          "output_type": "execute_result",
          "data": {
            "text/plain": [
              "<pandas.io.formats.style.Styler at 0x7fc51703f950>"
            ],
            "text/html": [
              "<style type=\"text/css\">\n",
              "#T_19524_row0_col0, #T_19524_row0_col1, #T_19524_row0_col2 {\n",
              "  background-color: #fed9a6;\n",
              "  color: #000000;\n",
              "}\n",
              "#T_19524_row1_col0, #T_19524_row1_col1, #T_19524_row1_col2, #T_19524_row3_col0, #T_19524_row3_col1, #T_19524_row3_col2 {\n",
              "  background-color: #f2f2f2;\n",
              "  color: #000000;\n",
              "}\n",
              "#T_19524_row2_col0, #T_19524_row2_col1, #T_19524_row2_col2 {\n",
              "  background-color: #e5d8bd;\n",
              "  color: #000000;\n",
              "}\n",
              "#T_19524_row4_col0, #T_19524_row4_col1, #T_19524_row4_col2 {\n",
              "  background-color: #fbb4ae;\n",
              "  color: #000000;\n",
              "}\n",
              "</style>\n",
              "<table id=\"T_19524_\" class=\"dataframe\">\n",
              "  <thead>\n",
              "    <tr>\n",
              "      <th class=\"blank\" >&nbsp;</th>\n",
              "      <th class=\"index_name level0\" >location_type</th>\n",
              "      <th class=\"col_heading level0 col0\" >Rural</th>\n",
              "      <th class=\"col_heading level0 col1\" >Urban</th>\n",
              "      <th class=\"col_heading level0 col2\" >All</th>\n",
              "    </tr>\n",
              "    <tr>\n",
              "      <th class=\"index_name level0\" >respondent_gender</th>\n",
              "      <th class=\"index_name level1\" >has_a_bank_account</th>\n",
              "      <th class=\"blank col0\" >&nbsp;</th>\n",
              "      <th class=\"blank col1\" >&nbsp;</th>\n",
              "      <th class=\"blank col2\" >&nbsp;</th>\n",
              "    </tr>\n",
              "  </thead>\n",
              "  <tbody>\n",
              "    <tr>\n",
              "      <th id=\"T_19524_level0_row0\" class=\"row_heading level0 row0\" rowspan=\"2\">Female</th>\n",
              "      <th id=\"T_19524_level1_row0\" class=\"row_heading level1 row0\" >No</th>\n",
              "      <td id=\"T_19524_row0_col0\" class=\"data row0 col0\" >7766</td>\n",
              "      <td id=\"T_19524_row0_col1\" class=\"data row0 col1\" >4531</td>\n",
              "      <td id=\"T_19524_row0_col2\" class=\"data row0 col2\" >12297</td>\n",
              "    </tr>\n",
              "    <tr>\n",
              "      <th id=\"T_19524_level1_row1\" class=\"row_heading level1 row1\" >Yes</th>\n",
              "      <td id=\"T_19524_row1_col0\" class=\"data row1 col0\" >723</td>\n",
              "      <td id=\"T_19524_row1_col1\" class=\"data row1 col1\" >757</td>\n",
              "      <td id=\"T_19524_row1_col2\" class=\"data row1 col2\" >1480</td>\n",
              "    </tr>\n",
              "    <tr>\n",
              "      <th id=\"T_19524_level0_row2\" class=\"row_heading level0 row2\" rowspan=\"2\">Male</th>\n",
              "      <th id=\"T_19524_level1_row2\" class=\"row_heading level1 row2\" >No</th>\n",
              "      <td id=\"T_19524_row2_col0\" class=\"data row2 col0\" >4838</td>\n",
              "      <td id=\"T_19524_row2_col1\" class=\"data row2 col1\" >2925</td>\n",
              "      <td id=\"T_19524_row2_col2\" class=\"data row2 col2\" >7763</td>\n",
              "    </tr>\n",
              "    <tr>\n",
              "      <th id=\"T_19524_level1_row3\" class=\"row_heading level1 row3\" >Yes</th>\n",
              "      <td id=\"T_19524_row3_col0\" class=\"data row3 col0\" >940</td>\n",
              "      <td id=\"T_19524_row3_col1\" class=\"data row3 col1\" >877</td>\n",
              "      <td id=\"T_19524_row3_col2\" class=\"data row3 col2\" >1817</td>\n",
              "    </tr>\n",
              "    <tr>\n",
              "      <th id=\"T_19524_level0_row4\" class=\"row_heading level0 row4\" >All</th>\n",
              "      <th id=\"T_19524_level1_row4\" class=\"row_heading level1 row4\" ></th>\n",
              "      <td id=\"T_19524_row4_col0\" class=\"data row4 col0\" >14267</td>\n",
              "      <td id=\"T_19524_row4_col1\" class=\"data row4 col1\" >9090</td>\n",
              "      <td id=\"T_19524_row4_col2\" class=\"data row4 col2\" >23357</td>\n",
              "    </tr>\n",
              "  </tbody>\n",
              "</table>\n"
            ]
          },
          "metadata": {},
          "execution_count": 41
        }
      ]
    },
    {
      "cell_type": "code",
      "metadata": {
        "id": "TUeGYNcdwzLQ",
        "colab": {
          "base_uri": "https://localhost:8080/",
          "height": 643
        },
        "outputId": "d9f08c4d-f79c-413a-8921-40d36db9b556"
      },
      "source": [
        "# Comparing education level and occupation vs having a bank account\n",
        "\n",
        "\n",
        "fig,ax=plt.subplots(1,2,figsize=(16,6))\n",
        "\n",
        "sns.countplot('education_level',hue='has_a_bank_account',data=bank,ax=ax[0])\n",
        "ax[0].set_title('Education vs Having a Bank Account')\n",
        "\n",
        "\n",
        "sns.countplot('occupation',hue='has_a_bank_account',data=bank,ax=ax[1])\n",
        "ax[1].set_title('Occupation vs Having a Bank Account')\n",
        "\n",
        "for ax in fig.axes:\n",
        "    plt.sca(ax)\n",
        "    plt.xticks(rotation=90)\n",
        "\n",
        "\n",
        "plt.show()"
      ],
      "execution_count": 43,
      "outputs": [
        {
          "output_type": "stream",
          "name": "stderr",
          "text": [
            "/usr/local/lib/python3.7/dist-packages/seaborn/_decorators.py:43: FutureWarning: Pass the following variable as a keyword arg: x. From version 0.12, the only valid positional argument will be `data`, and passing other arguments without an explicit keyword will result in an error or misinterpretation.\n",
            "  FutureWarning\n",
            "/usr/local/lib/python3.7/dist-packages/seaborn/_decorators.py:43: FutureWarning: Pass the following variable as a keyword arg: x. From version 0.12, the only valid positional argument will be `data`, and passing other arguments without an explicit keyword will result in an error or misinterpretation.\n",
            "  FutureWarning\n"
          ]
        },
        {
          "output_type": "display_data",
          "data": {
            "text/plain": [
              "<Figure size 1152x432 with 2 Axes>"
            ],
            "image/png": "[encoded data removed]"
          },
          "metadata": {
            "needs_background": "light"
          }
        }
      ]
    },
    {
      "cell_type": "code",
      "metadata": {
        "id": "slk68v-U4uSz"
      },
      "source": [
        "# Changing some categorical attributes to numeric to summurise correlation of having accounts or not.\n",
        "\n",
        "encode = {\"has_a_bank_account\": {\"Yes\":1, \"No\":0}, \"respondent_gender\": {\"Male\":1, \"Female\":0},\n",
        "          \"has_a_cell_phone\":{\"Yes\":1,\"No\":0}, \"location_type\": {\"Rural\":1, \"Urban\":0},\n",
        "          \"education_level\":{\"No formal education\":0,\"Primary education\":1, \"Secondary education\":2,\n",
        "                              \"Vocational/Specialised training\":3,\"Tertiary education\":4, \"Other/Dont know/RTA\":5},\n",
        "          \"relationship_with_head\":{\"Head of Household\":0, \"Child\":1, \"Parent\":2,\n",
        "                            \"Spouse\":3, \"Other relative\":4, \"Other non-relatives\":5}, \n",
        "          \"marital_status\":{\"Married/Living together\":0, \"Single/Never Married\":1, \"Divorced/Seperated\":2,\n",
        "                            \"Widowed\":3, \"Dont know\":4}}\n"
      ],
      "execution_count": 44,
      "outputs": []
    },
    {
      "cell_type": "code",
      "metadata": {
        "id": "mhTDRscx7bB9",
        "colab": {
          "base_uri": "https://localhost:8080/",
          "height": 374
        },
        "outputId": "8576db26-bc1c-49a4-c236-4358680a1c10"
      },
      "source": [
        "bank.replace(encode, inplace = True)\n",
        "bank.head()"
      ],
      "execution_count": 45,
      "outputs": [
        {
          "output_type": "execute_result",
          "data": {
            "text/plain": [
              "  country  year    uniqueid  has_a_bank_account  location_type  \\\n",
              "0   Kenya  2018  uniqueid_1                   1              1   \n",
              "1   Kenya  2018  uniqueid_2                   0              1   \n",
              "2   Kenya  2018  uniqueid_3                   1              0   \n",
              "3   Kenya  2018  uniqueid_4                   0              1   \n",
              "4   Kenya  2018  uniqueid_5                   0              0   \n",
              "\n",
              "   has_a_cell_phone  household_size  respondent_age  respondent_gender  \\\n",
              "0                 1             3.0            24.0                  0   \n",
              "1                 0             5.0            70.0                  0   \n",
              "2                 1             5.0            26.0                  1   \n",
              "3                 1             5.0            34.0                  0   \n",
              "4                 0             8.0            26.0                  1   \n",
              "\n",
              "   relationship_with_head  marital_status education_level  \\\n",
              "0                       3               0               2   \n",
              "1                       0               3               0   \n",
              "2                       4               1               3   \n",
              "3                       0               0               1   \n",
              "4                       1               1               1   \n",
              "\n",
              "                  occupation  \n",
              "0              Self employed  \n",
              "1       Government Dependent  \n",
              "2              Self employed  \n",
              "3  Formally employed Private  \n",
              "4        Informally employed  "
            ],
            "text/html": [
              "\n",
              "  <div id=\"df-4588e67b-5e8d-4686-b608-36bb3ca6fb03\">\n",
              "    <div class=\"colab-df-container\">\n",
              "      <div>\n",
              "<style scoped>\n",
              "    .dataframe tbody tr th:only-of-type {\n",
              "        vertical-align: middle;\n",
              "    }\n",
              "\n",
              "    .dataframe tbody tr th {\n",
              "        vertical-align: top;\n",
              "    }\n",
              "\n",
              "    .dataframe thead th {\n",
              "        text-align: right;\n",
              "    }\n",
              "</style>\n",
              "<table border=\"1\" class=\"dataframe\">\n",
              "  <thead>\n",
              "    <tr style=\"text-align: right;\">\n",
              "      <th></th>\n",
              "      <th>country</th>\n",
              "      <th>year</th>\n",
              "      <th>uniqueid</th>\n",
              "      <th>has_a_bank_account</th>\n",
              "      <th>location_type</th>\n",
              "      <th>has_a_cell_phone</th>\n",
              "      <th>household_size</th>\n",
              "      <th>respondent_age</th>\n",
              "      <th>respondent_gender</th>\n",
              "      <th>relationship_with_head</th>\n",
              "      <th>marital_status</th>\n",
              "      <th>education_level</th>\n",
              "      <th>occupation</th>\n",
              "    </tr>\n",
              "  </thead>\n",
              "  <tbody>\n",
              "    <tr>\n",
              "      <th>0</th>\n",
              "      <td>Kenya</td>\n",
              "      <td>2018</td>\n",
              "      <td>uniqueid_1</td>\n",
              "      <td>1</td>\n",
              "      <td>1</td>\n",
              "      <td>1</td>\n",
              "      <td>3.0</td>\n",
              "      <td>24.0</td>\n",
              "      <td>0</td>\n",
              "      <td>3</td>\n",
              "      <td>0</td>\n",
              "      <td>2</td>\n",
              "      <td>Self employed</td>\n",
              "    </tr>\n",
              "    <tr>\n",
              "      <th>1</th>\n",
              "      <td>Kenya</td>\n",
              "      <td>2018</td>\n",
              "      <td>uniqueid_2</td>\n",
              "      <td>0</td>\n",
              "      <td>1</td>\n",
              "      <td>0</td>\n",
              "      <td>5.0</td>\n",
              "      <td>70.0</td>\n",
              "      <td>0</td>\n",
              "      <td>0</td>\n",
              "      <td>3</td>\n",
              "      <td>0</td>\n",
              "      <td>Government Dependent</td>\n",
              "    </tr>\n",
              "    <tr>\n",
              "      <th>2</th>\n",
              "      <td>Kenya</td>\n",
              "      <td>2018</td>\n",
              "      <td>uniqueid_3</td>\n",
              "      <td>1</td>\n",
              "      <td>0</td>\n",
              "      <td>1</td>\n",
              "      <td>5.0</td>\n",
              "      <td>26.0</td>\n",
              "      <td>1</td>\n",
              "      <td>4</td>\n",
              "      <td>1</td>\n",
              "      <td>3</td>\n",
              "      <td>Self employed</td>\n",
              "    </tr>\n",
              "    <tr>\n",
              "      <th>3</th>\n",
              "      <td>Kenya</td>\n",
              "      <td>2018</td>\n",
              "      <td>uniqueid_4</td>\n",
              "      <td>0</td>\n",
              "      <td>1</td>\n",
              "      <td>1</td>\n",
              "      <td>5.0</td>\n",
              "      <td>34.0</td>\n",
              "      <td>0</td>\n",
              "      <td>0</td>\n",
              "      <td>0</td>\n",
              "      <td>1</td>\n",
              "      <td>Formally employed Private</td>\n",
              "    </tr>\n",
              "    <tr>\n",
              "      <th>4</th>\n",
              "      <td>Kenya</td>\n",
              "      <td>2018</td>\n",
              "      <td>uniqueid_5</td>\n",
              "      <td>0</td>\n",
              "      <td>0</td>\n",
              "      <td>0</td>\n",
              "      <td>8.0</td>\n",
              "      <td>26.0</td>\n",
              "      <td>1</td>\n",
              "      <td>1</td>\n",
              "      <td>1</td>\n",
              "      <td>1</td>\n",
              "      <td>Informally employed</td>\n",
              "    </tr>\n",
              "  </tbody>\n",
              "</table>\n",
              "</div>\n",
              "      <button class=\"colab-df-convert\" onclick=\"convertToInteractive('df-4588e67b-5e8d-4686-b608-36bb3ca6fb03')\"\n",
              "              title=\"Convert this dataframe to an interactive table.\"\n",
              "              style=\"display:none;\">\n",
              "        \n",
              "  <svg xmlns=\"http://www.w3.org/2000/svg\" height=\"24px\"viewBox=\"0 0 24 24\"\n",
              "       width=\"24px\">\n",
              "    <path d=\"M0 0h24v24H0V0z\" fill=\"none\"/>\n",
              "    <path d=\"M18.56 5.44l.94 2.06.94-2.06 2.06-.94-2.06-.94-.94-2.06-.94 2.06-2.06.94zm-11 1L8.5 8.5l.94-2.06 2.06-.94-2.06-.94L8.5 2.5l-.94 2.06-2.06.94zm10 10l.94 2.06.94-2.06 2.06-.94-2.06-.94-.94-2.06-.94 2.06-2.06.94z\"/><path d=\"M17.41 7.96l-1.37-1.37c-.4-.4-.92-.59-1.43-.59-.52 0-1.04.2-1.43.59L10.3 9.45l-7.72 7.72c-.78.78-.78 2.05 0 2.83L4 21.41c.39.39.9.59 1.41.59.51 0 1.02-.2 1.41-.59l7.78-7.78 2.81-2.81c.8-.78.8-2.07 0-2.86zM5.41 20L4 18.59l7.72-7.72 1.47 1.35L5.41 20z\"/>\n",
              "  </svg>\n",
              "      </button>\n",
              "      \n",
              "  <style>\n",
              "    .colab-df-container {\n",
              "      display:flex;\n",
              "      flex-wrap:wrap;\n",
              "      gap: 12px;\n",
              "    }\n",
              "\n",
              "    .colab-df-convert {\n",
              "      background-color: #E8F0FE;\n",
              "      border: none;\n",
              "      border-radius: 50%;\n",
              "      cursor: pointer;\n",
              "      display: none;\n",
              "      fill: #1967D2;\n",
              "      height: 32px;\n",
              "      padding: 0 0 0 0;\n",
              "      width: 32px;\n",
              "    }\n",
              "\n",
              "    .colab-df-convert:hover {\n",
              "      background-color: #E2EBFA;\n",
              "      box-shadow: 0px 1px 2px rgba(60, 64, 67, 0.3), 0px 1px 3px 1px rgba(60, 64, 67, 0.15);\n",
              "      fill: #174EA6;\n",
              "    }\n",
              "\n",
              "    [theme=dark] .colab-df-convert {\n",
              "      background-color: #3B4455;\n",
              "      fill: #D2E3FC;\n",
              "    }\n",
              "\n",
              "    [theme=dark] .colab-df-convert:hover {\n",
              "      background-color: #434B5C;\n",
              "      box-shadow: 0px 1px 3px 1px rgba(0, 0, 0, 0.15);\n",
              "      filter: drop-shadow(0px 1px 2px rgba(0, 0, 0, 0.3));\n",
              "      fill: #FFFFFF;\n",
              "    }\n",
              "  </style>\n",
              "\n",
              "      <script>\n",
              "        const buttonEl =\n",
              "          document.querySelector('#df-4588e67b-5e8d-4686-b608-36bb3ca6fb03 button.colab-df-convert');\n",
              "        buttonEl.style.display =\n",
              "          google.colab.kernel.accessAllowed ? 'block' : 'none';\n",
              "\n",
              "        async function convertToInteractive(key) {\n",
              "          const element = document.querySelector('#df-4588e67b-5e8d-4686-b608-36bb3ca6fb03');\n",
              "          const dataTable =\n",
              "            await google.colab.kernel.invokeFunction('convertToInteractive',\n",
              "                                                     [key], {});\n",
              "          if (!dataTable) return;\n",
              "\n",
              "          const docLinkHtml = 'Like what you see? Visit the ' +\n",
              "            '<a target=\"_blank\" href=https://colab.research.google.com/notebooks/data_table.ipynb>data table notebook</a>'\n",
              "            + ' to learn more about interactive tables.';\n",
              "          element.innerHTML = '';\n",
              "          dataTable['output_type'] = 'display_data';\n",
              "          await google.colab.output.renderOutput(dataTable, element);\n",
              "          const docLink = document.createElement('div');\n",
              "          docLink.innerHTML = docLinkHtml;\n",
              "          element.appendChild(docLink);\n",
              "        }\n",
              "      </script>\n",
              "    </div>\n",
              "  </div>\n",
              "  "
            ]
          },
          "metadata": {},
          "execution_count": 45
        }
      ]
    },
    {
      "cell_type": "code",
      "metadata": {
        "id": "8cOEcutu7mYF",
        "colab": {
          "base_uri": "https://localhost:8080/"
        },
        "outputId": "299fed09-bb5f-4dbd-d9a8-8c8a87dca68b"
      },
      "source": [
        "# Summary of correlations\n",
        "# bank account status\n",
        "\n",
        "bank['location_type'].corr(bank['has_a_bank_account'])\n"
      ],
      "execution_count": 46,
      "outputs": [
        {
          "output_type": "execute_result",
          "data": {
            "text/plain": [
              "-0.08849280626186377"
            ]
          },
          "metadata": {},
          "execution_count": 46
        }
      ]
    },
    {
      "cell_type": "code",
      "metadata": {
        "id": "2QwPa7hw9k9d",
        "colab": {
          "base_uri": "https://localhost:8080/"
        },
        "outputId": "8ab0465d-4576-4437-f517-370e12d39775"
      },
      "source": [
        "bank['has_a_cell_phone'].corr(bank['has_a_bank_account'])"
      ],
      "execution_count": 47,
      "outputs": [
        {
          "output_type": "execute_result",
          "data": {
            "text/plain": [
              "0.20957156872677984"
            ]
          },
          "metadata": {},
          "execution_count": 47
        }
      ]
    },
    {
      "cell_type": "code",
      "metadata": {
        "id": "SkP-KmQr9hh9",
        "colab": {
          "base_uri": "https://localhost:8080/"
        },
        "outputId": "9878bc2a-fb37-47a2-a94f-2d8edfffbd38"
      },
      "source": [
        "bank['household_size'].corr(bank['has_a_bank_account'])"
      ],
      "execution_count": 48,
      "outputs": [
        {
          "output_type": "execute_result",
          "data": {
            "text/plain": [
              "-0.022856244820033532"
            ]
          },
          "metadata": {},
          "execution_count": 48
        }
      ]
    },
    {
      "cell_type": "code",
      "metadata": {
        "id": "8gtsjUTa9pue",
        "colab": {
          "base_uri": "https://localhost:8080/"
        },
        "outputId": "431304f2-fe06-44b2-cf16-c2e20a9caec7"
      },
      "source": [
        "bank['respondent_gender'].corr(bank['has_a_bank_account'])"
      ],
      "execution_count": 49,
      "outputs": [
        {
          "output_type": "execute_result",
          "data": {
            "text/plain": [
              "0.11617726823081483"
            ]
          },
          "metadata": {},
          "execution_count": 49
        }
      ]
    },
    {
      "cell_type": "markdown",
      "metadata": {
        "id": "AB1DNwVxDx6s"
      },
      "source": [
        "## Multivariate Analysis"
      ]
    },
    {
      "cell_type": "code",
      "metadata": {
        "id": "IkNL4R3CAh6W",
        "colab": {
          "base_uri": "https://localhost:8080/",
          "height": 374
        },
        "outputId": "0ea5c9df-f1b4-4d1e-b766-71118494be34"
      },
      "source": [
        "bank.head()"
      ],
      "execution_count": 50,
      "outputs": [
        {
          "output_type": "execute_result",
          "data": {
            "text/plain": [
              "  country  year    uniqueid  has_a_bank_account  location_type  \\\n",
              "0   Kenya  2018  uniqueid_1                   1              1   \n",
              "1   Kenya  2018  uniqueid_2                   0              1   \n",
              "2   Kenya  2018  uniqueid_3                   1              0   \n",
              "3   Kenya  2018  uniqueid_4                   0              1   \n",
              "4   Kenya  2018  uniqueid_5                   0              0   \n",
              "\n",
              "   has_a_cell_phone  household_size  respondent_age  respondent_gender  \\\n",
              "0                 1             3.0            24.0                  0   \n",
              "1                 0             5.0            70.0                  0   \n",
              "2                 1             5.0            26.0                  1   \n",
              "3                 1             5.0            34.0                  0   \n",
              "4                 0             8.0            26.0                  1   \n",
              "\n",
              "   relationship_with_head  marital_status education_level  \\\n",
              "0                       3               0               2   \n",
              "1                       0               3               0   \n",
              "2                       4               1               3   \n",
              "3                       0               0               1   \n",
              "4                       1               1               1   \n",
              "\n",
              "                  occupation  \n",
              "0              Self employed  \n",
              "1       Government Dependent  \n",
              "2              Self employed  \n",
              "3  Formally employed Private  \n",
              "4        Informally employed  "
            ],
            "text/html": [
              "\n",
              "  <div id=\"df-012cc0dc-258c-443b-bfe8-49c56b112baa\">\n",
              "    <div class=\"colab-df-container\">\n",
              "      <div>\n",
              "<style scoped>\n",
              "    .dataframe tbody tr th:only-of-type {\n",
              "        vertical-align: middle;\n",
              "    }\n",
              "\n",
              "    .dataframe tbody tr th {\n",
              "        vertical-align: top;\n",
              "    }\n",
              "\n",
              "    .dataframe thead th {\n",
              "        text-align: right;\n",
              "    }\n",
              "</style>\n",
              "<table border=\"1\" class=\"dataframe\">\n",
              "  <thead>\n",
              "    <tr style=\"text-align: right;\">\n",
              "      <th></th>\n",
              "      <th>country</th>\n",
              "      <th>year</th>\n",
              "      <th>uniqueid</th>\n",
              "      <th>has_a_bank_account</th>\n",
              "      <th>location_type</th>\n",
              "      <th>has_a_cell_phone</th>\n",
              "      <th>household_size</th>\n",
              "      <th>respondent_age</th>\n",
              "      <th>respondent_gender</th>\n",
              "      <th>relationship_with_head</th>\n",
              "      <th>marital_status</th>\n",
              "      <th>education_level</th>\n",
              "      <th>occupation</th>\n",
              "    </tr>\n",
              "  </thead>\n",
              "  <tbody>\n",
              "    <tr>\n",
              "      <th>0</th>\n",
              "      <td>Kenya</td>\n",
              "      <td>2018</td>\n",
              "      <td>uniqueid_1</td>\n",
              "      <td>1</td>\n",
              "      <td>1</td>\n",
              "      <td>1</td>\n",
              "      <td>3.0</td>\n",
              "      <td>24.0</td>\n",
              "      <td>0</td>\n",
              "      <td>3</td>\n",
              "      <td>0</td>\n",
              "      <td>2</td>\n",
              "      <td>Self employed</td>\n",
              "    </tr>\n",
              "    <tr>\n",
              "      <th>1</th>\n",
              "      <td>Kenya</td>\n",
              "      <td>2018</td>\n",
              "      <td>uniqueid_2</td>\n",
              "      <td>0</td>\n",
              "      <td>1</td>\n",
              "      <td>0</td>\n",
              "      <td>5.0</td>\n",
              "      <td>70.0</td>\n",
              "      <td>0</td>\n",
              "      <td>0</td>\n",
              "      <td>3</td>\n",
              "      <td>0</td>\n",
              "      <td>Government Dependent</td>\n",
              "    </tr>\n",
              "    <tr>\n",
              "      <th>2</th>\n",
              "      <td>Kenya</td>\n",
              "      <td>2018</td>\n",
              "      <td>uniqueid_3</td>\n",
              "      <td>1</td>\n",
              "      <td>0</td>\n",
              "      <td>1</td>\n",
              "      <td>5.0</td>\n",
              "      <td>26.0</td>\n",
              "      <td>1</td>\n",
              "      <td>4</td>\n",
              "      <td>1</td>\n",
              "      <td>3</td>\n",
              "      <td>Self employed</td>\n",
              "    </tr>\n",
              "    <tr>\n",
              "      <th>3</th>\n",
              "      <td>Kenya</td>\n",
              "      <td>2018</td>\n",
              "      <td>uniqueid_4</td>\n",
              "      <td>0</td>\n",
              "      <td>1</td>\n",
              "      <td>1</td>\n",
              "      <td>5.0</td>\n",
              "      <td>34.0</td>\n",
              "      <td>0</td>\n",
              "      <td>0</td>\n",
              "      <td>0</td>\n",
              "      <td>1</td>\n",
              "      <td>Formally employed Private</td>\n",
              "    </tr>\n",
              "    <tr>\n",
              "      <th>4</th>\n",
              "      <td>Kenya</td>\n",
              "      <td>2018</td>\n",
              "      <td>uniqueid_5</td>\n",
              "      <td>0</td>\n",
              "      <td>0</td>\n",
              "      <td>0</td>\n",
              "      <td>8.0</td>\n",
              "      <td>26.0</td>\n",
              "      <td>1</td>\n",
              "      <td>1</td>\n",
              "      <td>1</td>\n",
              "      <td>1</td>\n",
              "      <td>Informally employed</td>\n",
              "    </tr>\n",
              "  </tbody>\n",
              "</table>\n",
              "</div>\n",
              "      <button class=\"colab-df-convert\" onclick=\"convertToInteractive('df-012cc0dc-258c-443b-bfe8-49c56b112baa')\"\n",
              "              title=\"Convert this dataframe to an interactive table.\"\n",
              "              style=\"display:none;\">\n",
              "        \n",
              "  <svg xmlns=\"http://www.w3.org/2000/svg\" height=\"24px\"viewBox=\"0 0 24 24\"\n",
              "       width=\"24px\">\n",
              "    <path d=\"M0 0h24v24H0V0z\" fill=\"none\"/>\n",
              "    <path d=\"M18.56 5.44l.94 2.06.94-2.06 2.06-.94-2.06-.94-.94-2.06-.94 2.06-2.06.94zm-11 1L8.5 8.5l.94-2.06 2.06-.94-2.06-.94L8.5 2.5l-.94 2.06-2.06.94zm10 10l.94 2.06.94-2.06 2.06-.94-2.06-.94-.94-2.06-.94 2.06-2.06.94z\"/><path d=\"M17.41 7.96l-1.37-1.37c-.4-.4-.92-.59-1.43-.59-.52 0-1.04.2-1.43.59L10.3 9.45l-7.72 7.72c-.78.78-.78 2.05 0 2.83L4 21.41c.39.39.9.59 1.41.59.51 0 1.02-.2 1.41-.59l7.78-7.78 2.81-2.81c.8-.78.8-2.07 0-2.86zM5.41 20L4 18.59l7.72-7.72 1.47 1.35L5.41 20z\"/>\n",
              "  </svg>\n",
              "      </button>\n",
              "      \n",
              "  <style>\n",
              "    .colab-df-container {\n",
              "      display:flex;\n",
              "      flex-wrap:wrap;\n",
              "      gap: 12px;\n",
              "    }\n",
              "\n",
              "    .colab-df-convert {\n",
              "      background-color: #E8F0FE;\n",
              "      border: none;\n",
              "      border-radius: 50%;\n",
              "      cursor: pointer;\n",
              "      display: none;\n",
              "      fill: #1967D2;\n",
              "      height: 32px;\n",
              "      padding: 0 0 0 0;\n",
              "      width: 32px;\n",
              "    }\n",
              "\n",
              "    .colab-df-convert:hover {\n",
              "      background-color: #E2EBFA;\n",
              "      box-shadow: 0px 1px 2px rgba(60, 64, 67, 0.3), 0px 1px 3px 1px rgba(60, 64, 67, 0.15);\n",
              "      fill: #174EA6;\n",
              "    }\n",
              "\n",
              "    [theme=dark] .colab-df-convert {\n",
              "      background-color: #3B4455;\n",
              "      fill: #D2E3FC;\n",
              "    }\n",
              "\n",
              "    [theme=dark] .colab-df-convert:hover {\n",
              "      background-color: #434B5C;\n",
              "      box-shadow: 0px 1px 3px 1px rgba(0, 0, 0, 0.15);\n",
              "      filter: drop-shadow(0px 1px 2px rgba(0, 0, 0, 0.3));\n",
              "      fill: #FFFFFF;\n",
              "    }\n",
              "  </style>\n",
              "\n",
              "      <script>\n",
              "        const buttonEl =\n",
              "          document.querySelector('#df-012cc0dc-258c-443b-bfe8-49c56b112baa button.colab-df-convert');\n",
              "        buttonEl.style.display =\n",
              "          google.colab.kernel.accessAllowed ? 'block' : 'none';\n",
              "\n",
              "        async function convertToInteractive(key) {\n",
              "          const element = document.querySelector('#df-012cc0dc-258c-443b-bfe8-49c56b112baa');\n",
              "          const dataTable =\n",
              "            await google.colab.kernel.invokeFunction('convertToInteractive',\n",
              "                                                     [key], {});\n",
              "          if (!dataTable) return;\n",
              "\n",
              "          const docLinkHtml = 'Like what you see? Visit the ' +\n",
              "            '<a target=\"_blank\" href=https://colab.research.google.com/notebooks/data_table.ipynb>data table notebook</a>'\n",
              "            + ' to learn more about interactive tables.';\n",
              "          element.innerHTML = '';\n",
              "          dataTable['output_type'] = 'display_data';\n",
              "          await google.colab.output.renderOutput(dataTable, element);\n",
              "          const docLink = document.createElement('div');\n",
              "          docLink.innerHTML = docLinkHtml;\n",
              "          element.appendChild(docLink);\n",
              "        }\n",
              "      </script>\n",
              "    </div>\n",
              "  </div>\n",
              "  "
            ]
          },
          "metadata": {},
          "execution_count": 50
        }
      ]
    },
    {
      "cell_type": "code",
      "metadata": {
        "id": "TI0zc3jVDGLx",
        "colab": {
          "base_uri": "https://localhost:8080/"
        },
        "outputId": "395d0405-5bec-4fc4-aeee-ac39730a710b"
      },
      "source": [
        "bank.info()"
      ],
      "execution_count": 51,
      "outputs": [
        {
          "output_type": "stream",
          "name": "stdout",
          "text": [
            "<class 'pandas.core.frame.DataFrame'>\n",
            "RangeIndex: 23357 entries, 0 to 23356\n",
            "Data columns (total 13 columns):\n",
            " #   Column                  Non-Null Count  Dtype  \n",
            "---  ------                  --------------  -----  \n",
            " 0   country                 23357 non-null  object \n",
            " 1   year                    23357 non-null  int64  \n",
            " 2   uniqueid                23357 non-null  object \n",
            " 3   has_a_bank_account      23357 non-null  int64  \n",
            " 4   location_type           23357 non-null  int64  \n",
            " 5   has_a_cell_phone        23357 non-null  int64  \n",
            " 6   household_size          23357 non-null  float64\n",
            " 7   respondent_age          23357 non-null  float64\n",
            " 8   respondent_gender       23357 non-null  int64  \n",
            " 9   relationship_with_head  23357 non-null  int64  \n",
            " 10  marital_status          23357 non-null  int64  \n",
            " 11  education_level         23357 non-null  object \n",
            " 12  occupation              23357 non-null  object \n",
            "dtypes: float64(2), int64(7), object(4)\n",
            "memory usage: 2.3+ MB\n"
          ]
        }
      ]
    },
    {
      "cell_type": "code",
      "metadata": {
        "id": "bMdjtF3rDVWp"
      },
      "source": [
        "\n",
        "\n",
        "bank['education_level'] = bank['education_level'].astype(str).astype(int)\n",
        "bank['relationship_with_head'] = bank['relationship_with_head'].astype(str).astype(int)\n",
        "bank['marital_status'] = bank['marital_status'].astype(str).astype(int)"
      ],
      "execution_count": 52,
      "outputs": []
    },
    {
      "cell_type": "code",
      "metadata": {
        "id": "oHeiXzRMDcPB",
        "colab": {
          "base_uri": "https://localhost:8080/"
        },
        "outputId": "53e7a77a-664d-4c53-9252-cee11405233d"
      },
      "source": [
        "bank.info()"
      ],
      "execution_count": 53,
      "outputs": [
        {
          "output_type": "stream",
          "name": "stdout",
          "text": [
            "<class 'pandas.core.frame.DataFrame'>\n",
            "RangeIndex: 23357 entries, 0 to 23356\n",
            "Data columns (total 13 columns):\n",
            " #   Column                  Non-Null Count  Dtype  \n",
            "---  ------                  --------------  -----  \n",
            " 0   country                 23357 non-null  object \n",
            " 1   year                    23357 non-null  int64  \n",
            " 2   uniqueid                23357 non-null  object \n",
            " 3   has_a_bank_account      23357 non-null  int64  \n",
            " 4   location_type           23357 non-null  int64  \n",
            " 5   has_a_cell_phone        23357 non-null  int64  \n",
            " 6   household_size          23357 non-null  float64\n",
            " 7   respondent_age          23357 non-null  float64\n",
            " 8   respondent_gender       23357 non-null  int64  \n",
            " 9   relationship_with_head  23357 non-null  int64  \n",
            " 10  marital_status          23357 non-null  int64  \n",
            " 11  education_level         23357 non-null  int64  \n",
            " 12  occupation              23357 non-null  object \n",
            "dtypes: float64(2), int64(8), object(3)\n",
            "memory usage: 2.3+ MB\n"
          ]
        }
      ]
    },
    {
      "cell_type": "code",
      "metadata": {
        "id": "rLKGmI05F1pp"
      },
      "source": [
        "# Dropping unncessary columns\n",
        "\n",
        "bank.drop(['country','year','uniqueid','occupation'],axis=1,inplace=True)"
      ],
      "execution_count": 54,
      "outputs": []
    },
    {
      "cell_type": "markdown",
      "metadata": {
        "id": "kl7EQwpSP8SF"
      },
      "source": [
        "### Principal Component Analysis (PCA)"
      ]
    },
    {
      "cell_type": "code",
      "metadata": {
        "id": "Mj9Y7ONRAp-M",
        "colab": {
          "base_uri": "https://localhost:8080/"
        },
        "outputId": "cfca9475-9f26-41aa-d9b2-e7dee0eb3726"
      },
      "source": [
        "# Preprocessing,, divide the dataset into a feature set and corresponding labels. \n",
        "# store the feature sets into the X variable \n",
        "# and the series of corresponding labels in to the y variable\n",
        "\n",
        "x = bank.drop('has_a_bank_account',1)\n",
        "y = bank['has_a_bank_account']\n"
      ],
      "execution_count": 56,
      "outputs": [
        {
          "output_type": "stream",
          "name": "stderr",
          "text": [
            "/usr/local/lib/python3.7/dist-packages/ipykernel_launcher.py:7: FutureWarning: In a future version of pandas all arguments of DataFrame.drop except for the argument 'labels' will be keyword-only\n",
            "  import sys\n"
          ]
        }
      ]
    },
    {
      "cell_type": "code",
      "metadata": {
        "id": "VnuB4UkdHFVs",
        "colab": {
          "base_uri": "https://localhost:8080/"
        },
        "outputId": "57b9950a-f873-4d1f-d5b4-b475a0cdcd6b"
      },
      "source": [
        "# Checking the x variable\n",
        "\n",
        "x.shape\n"
      ],
      "execution_count": 57,
      "outputs": [
        {
          "output_type": "execute_result",
          "data": {
            "text/plain": [
              "(23357, 8)"
            ]
          },
          "metadata": {},
          "execution_count": 57
        }
      ]
    },
    {
      "cell_type": "code",
      "metadata": {
        "id": "nt00v1eLHSrs",
        "colab": {
          "base_uri": "https://localhost:8080/"
        },
        "outputId": "a9d6047d-07e3-45ba-c5a4-4996572abab3"
      },
      "source": [
        "# Checking the y variable\n",
        "\n",
        "y.shape\n"
      ],
      "execution_count": 58,
      "outputs": [
        {
          "output_type": "execute_result",
          "data": {
            "text/plain": [
              "(23357,)"
            ]
          },
          "metadata": {},
          "execution_count": 58
        }
      ]
    },
    {
      "cell_type": "code",
      "metadata": {
        "id": "05nZ1Ye3Gz1Y"
      },
      "source": [
        "# Splitting the dataset into the Training set and Test set\n",
        "# define the size of the test data as 20% of entire dataset\n",
        "\n",
        "from sklearn.model_selection import train_test_split\n",
        "\n",
        "x_train, x_test, y_train, y_test = train_test_split(x, y, test_size=0.2, random_state=0)"
      ],
      "execution_count": 59,
      "outputs": []
    },
    {
      "cell_type": "code",
      "metadata": {
        "id": "q3fZ-5rUHmYD"
      },
      "source": [
        "# Normalization\n",
        " \n",
        "# perform standard scalar normalization to normalize our feature set\n",
        "\n",
        "from sklearn.preprocessing import StandardScaler\n",
        "\n",
        "sc = StandardScaler()\n",
        "x_train = sc.fit_transform(x_train)\n",
        "x_test = sc.transform(x_test)\n"
      ],
      "execution_count": 60,
      "outputs": []
    },
    {
      "cell_type": "code",
      "metadata": {
        "id": "v5lkrlmMH-Aw"
      },
      "source": [
        "# Applying PCA,, return all the features in the feature set for both the training and test sets\n",
        "# since we have not specified the number of components in the constructor\n",
        "\n",
        "from sklearn.decomposition import PCA\n",
        "\n",
        "pca = PCA()\n",
        "x_train = pca.fit_transform(x_train)\n",
        "x_test = pca.transform(x_test)"
      ],
      "execution_count": 61,
      "outputs": []
    },
    {
      "cell_type": "code",
      "metadata": {
        "id": "0HU6YvQmLPOM",
        "colab": {
          "base_uri": "https://localhost:8080/"
        },
        "outputId": "d79651da-bde6-46f4-96b0-6e2ba53ee611"
      },
      "source": [
        "# Explained Variance Ratio ,,,check the variance caused by each of the principal components using the explained variance ratio\n",
        "\n",
        "explained_variance = pca.explained_variance_ratio_\n",
        "explained_variance\n",
        "\n",
        "# The first principal component is responsible for 22.96% variance. \n",
        "# The second principal component causes 18.89% variance \n",
        "# Therefore (22.96 + 18.89) 41.85% is contained in the feature set that is captured by the first two principal components.\n"
      ],
      "execution_count": 62,
      "outputs": [
        {
          "output_type": "execute_result",
          "data": {
            "text/plain": [
              "array([0.22964966, 0.18891222, 0.17105915, 0.11589348, 0.09358427,\n",
              "       0.08020505, 0.07266411, 0.04803206])"
            ]
          },
          "metadata": {},
          "execution_count": 62
        }
      ]
    },
    {
      "cell_type": "code",
      "metadata": {
        "id": "GOvhJs3TMbt9"
      },
      "source": [
        "# Using 1 Principal Component to train algorithm\n",
        "\n",
        "from sklearn.decomposition import PCA\n",
        "\n",
        "pca = PCA(n_components=1)\n",
        "x_train = pca.fit_transform(x_train)\n",
        "x_test = pca.transform(x_test)"
      ],
      "execution_count": 63,
      "outputs": []
    },
    {
      "cell_type": "code",
      "metadata": {
        "id": "ESpc8X20MoNJ"
      },
      "source": [
        "# Training and Making Predictions using random forest classification\n",
        "\n",
        "from sklearn.ensemble import RandomForestClassifier\n",
        "\n",
        "classifier = RandomForestClassifier(max_depth=2, random_state=0)\n",
        "classifier.fit(x_train, y_train)\n",
        "\n",
        "# Predicting the Test set results\n",
        "y_pred = classifier.predict(x_test)"
      ],
      "execution_count": 64,
      "outputs": []
    },
    {
      "cell_type": "code",
      "metadata": {
        "id": "5C7MAaGhM1di",
        "colab": {
          "base_uri": "https://localhost:8080/"
        },
        "outputId": "cceeda90-4653-4f72-8aa4-3aa66c25d583"
      },
      "source": [
        "# Performance Evaluation\n",
        "\n",
        "from sklearn.metrics import confusion_matrix\n",
        "from sklearn.metrics import accuracy_score\n",
        "\n",
        "cm = confusion_matrix(y_test, y_pred)\n",
        "print(cm)\n",
        "print('Accuracy' , accuracy_score(y_test, y_pred))\n",
        "\n",
        "# The random forest algorithm is able to correctly predict an 85.68% using one feature."
      ],
      "execution_count": 65,
      "outputs": [
        {
          "output_type": "stream",
          "name": "stdout",
          "text": [
            "[[4003    0]\n",
            " [ 669    0]]\n",
            "Accuracy 0.856806506849315\n"
          ]
        }
      ]
    },
    {
      "cell_type": "code",
      "metadata": {
        "id": "hizwLqEmN5yE",
        "colab": {
          "base_uri": "https://localhost:8080/"
        },
        "outputId": "cd1d6c16-b093-4565-8f67-542d031556b6"
      },
      "source": [
        "# Using 2 Principal Components to train algorithm and make predictions using random forest classification\n",
        "\n",
        "x_train, x_test, y_train, y_test = train_test_split(x, y, test_size=0.2, random_state=0)\n",
        "\n",
        "sc = StandardScaler()\n",
        "x_train = sc.fit_transform(x_train)\n",
        "x_test = sc.transform(x_test)\n",
        "\n",
        "pca = PCA(n_components=2)\n",
        "x_train = pca.fit_transform(x_train)\n",
        "x_test = pca.transform(x_test)\n",
        "\n",
        "classifier = RandomForestClassifier(max_depth=2, random_state=0)\n",
        "classifier.fit(x_train, y_train)\n",
        "\n",
        "from sklearn.metrics import confusion_matrix\n",
        "from sklearn.metrics import accuracy_score\n",
        "\n",
        "cm = confusion_matrix(y_test, y_pred)\n",
        "print(cm)\n",
        "print('Accuracy' , accuracy_score(y_test, y_pred))\n",
        "\n",
        "# The random forest algorithm is able to correctly predict an 85.68% using two features."
      ],
      "execution_count": 66,
      "outputs": [
        {
          "output_type": "stream",
          "name": "stdout",
          "text": [
            "[[4003    0]\n",
            " [ 669    0]]\n",
            "Accuracy 0.856806506849315\n"
          ]
        }
      ]
    },
    {
      "cell_type": "code",
      "metadata": {
        "id": "OOuhMPciO2F5",
        "colab": {
          "base_uri": "https://localhost:8080/"
        },
        "outputId": "23cf7533-d120-4697-baa5-197648f2448e"
      },
      "source": [
        "# Using 3 Principal Components to train algorithm and make predictions using random forest classification\n",
        "\n",
        "x_train, x_test, y_train, y_test = train_test_split(x, y, test_size=0.2, random_state=0)\n",
        "\n",
        "sc = StandardScaler()\n",
        "x_train = sc.fit_transform(x_train)\n",
        "x_test = sc.transform(x_test)\n",
        "\n",
        "pca = PCA(n_components=3)\n",
        "x_train = pca.fit_transform(x_train)\n",
        "x_test = pca.transform(x_test)\n",
        "\n",
        "classifier = RandomForestClassifier(max_depth=2, random_state=0)\n",
        "classifier.fit(x_train, y_train)\n",
        "\n",
        "from sklearn.metrics import confusion_matrix\n",
        "from sklearn.metrics import accuracy_score\n",
        "\n",
        "cm = confusion_matrix(y_test, y_pred)\n",
        "print(cm)\n",
        "print('Accuracy' , accuracy_score(y_test, y_pred))\n",
        "\n",
        "# The random forest algorithm is able to correctly predict an 85.68% accuracy using three features."
      ],
      "execution_count": 67,
      "outputs": [
        {
          "output_type": "stream",
          "name": "stdout",
          "text": [
            "[[4003    0]\n",
            " [ 669    0]]\n",
            "Accuracy 0.856806506849315\n"
          ]
        }
      ]
    },
    {
      "cell_type": "markdown",
      "metadata": {
        "id": "DfP3OglpQPBS"
      },
      "source": [
        "### Factor Analysis"
      ]
    },
    {
      "cell_type": "code",
      "metadata": {
        "id": "5seSSZYHQgN3",
        "colab": {
          "base_uri": "https://localhost:8080/"
        },
        "outputId": "b68c64ff-c62f-40ed-8fd4-fafc42e27063"
      },
      "source": [
        "# Evaluate the “factorability” of our dataset.\n",
        "# Condition,,,If Bartlett’s test turns out to be statistically insignificant, then we cannot use a factor analysis.\n",
        "\n",
        "!pip install factor_analyzer==0.2.3\n",
        "\n",
        "from factor_analyzer.factor_analyzer import calculate_bartlett_sphericity\n"
      ],
      "execution_count": 68,
      "outputs": [
        {
          "output_type": "stream",
          "name": "stdout",
          "text": [
            "Collecting factor_analyzer==0.2.3\n",
            "  Downloading factor_analyzer-0.2.3-py2.py3-none-any.whl (23 kB)\n",
            "Requirement already satisfied: pandas in /usr/local/lib/python3.7/dist-packages (from factor_analyzer==0.2.3) (1.3.5)\n",
            "Requirement already satisfied: numpy in /usr/local/lib/python3.7/dist-packages (from factor_analyzer==0.2.3) (1.21.6)\n",
            "Requirement already satisfied: scipy in /usr/local/lib/python3.7/dist-packages (from factor_analyzer==0.2.3) (1.4.1)\n",
            "Requirement already satisfied: pytz>=2017.3 in /usr/local/lib/python3.7/dist-packages (from pandas->factor_analyzer==0.2.3) (2022.1)\n",
            "Requirement already satisfied: python-dateutil>=2.7.3 in /usr/local/lib/python3.7/dist-packages (from pandas->factor_analyzer==0.2.3) (2.8.2)\n",
            "Requirement already satisfied: six>=1.5 in /usr/local/lib/python3.7/dist-packages (from python-dateutil>=2.7.3->pandas->factor_analyzer==0.2.3) (1.15.0)\n",
            "Installing collected packages: factor-analyzer\n",
            "Successfully installed factor-analyzer-0.2.3\n"
          ]
        }
      ]
    },
    {
      "cell_type": "code",
      "metadata": {
        "id": "DcSnakSoTNXo",
        "colab": {
          "base_uri": "https://localhost:8080/"
        },
        "outputId": "d4a3df08-9038-46dc-ca92-969a4257194c"
      },
      "source": [
        "chi_square_value,p_value=calculate_bartlett_sphericity(bank)\n",
        "chi_square_value, p_value\n",
        "\n",
        "# In Bartlett ’s test, the p-value is 0. This shows the test was statistically insignificant, \n",
        "# This indicates that the observed correlation matrix is not an identity matrix."
      ],
      "execution_count": 69,
      "outputs": [
        {
          "output_type": "execute_result",
          "data": {
            "text/plain": [
              "(27196.41308499844, 0.0)"
            ]
          },
          "metadata": {},
          "execution_count": 69
        }
      ]
    },
    {
      "cell_type": "code",
      "metadata": {
        "id": "weojgGy5Tka8",
        "colab": {
          "base_uri": "https://localhost:8080/"
        },
        "outputId": "751e409e-8394-4d76-efdd-bbc5fc12443e"
      },
      "source": [
        "# The Kaiser-Meyer-Olkin (KMO) Test will determine the adequacy for each observed variable and for the complete model.\n",
        "\n",
        "from factor_analyzer.factor_analyzer import calculate_kmo\n",
        "\n",
        "kmo_all,kmo_model=calculate_kmo(bank)\n",
        "\n",
        "kmo_model\n",
        "\n",
        "\n",
        "# The overall KMO for our data is 0.54, this shows the its inadequate therefore won't proceed with the analysis."
      ],
      "execution_count": 70,
      "outputs": [
        {
          "output_type": "execute_result",
          "data": {
            "text/plain": [
              "0.53665730844079"
            ]
          },
          "metadata": {},
          "execution_count": 70
        }
      ]
    },
    {
      "cell_type": "code",
      "metadata": {
        "id": "0eHv9gSSU2gw",
        "colab": {
          "base_uri": "https://localhost:8080/",
          "height": 332
        },
        "outputId": "0809eba3-e11d-43cd-d01b-9a0011e46f44"
      },
      "source": [
        "kmo_all"
      ],
      "execution_count": 71,
      "outputs": [
        {
          "output_type": "execute_result",
          "data": {
            "text/plain": [
              "                             KMO\n",
              "has_a_bank_account      0.558779\n",
              "location_type           0.554620\n",
              "has_a_cell_phone        0.683453\n",
              "household_size          0.626153\n",
              "respondent_age          0.580340\n",
              "respondent_gender       0.429381\n",
              "relationship_with_head  0.480600\n",
              "marital_status          0.535965\n",
              "education_level         0.559482"
            ],
            "text/html": [
              "\n",
              "  <div id=\"df-93eceee6-adb9-4a1c-a8ad-5f5f294da1ac\">\n",
              "    <div class=\"colab-df-container\">\n",
              "      <div>\n",
              "<style scoped>\n",
              "    .dataframe tbody tr th:only-of-type {\n",
              "        vertical-align: middle;\n",
              "    }\n",
              "\n",
              "    .dataframe tbody tr th {\n",
              "        vertical-align: top;\n",
              "    }\n",
              "\n",
              "    .dataframe thead th {\n",
              "        text-align: right;\n",
              "    }\n",
              "</style>\n",
              "<table border=\"1\" class=\"dataframe\">\n",
              "  <thead>\n",
              "    <tr style=\"text-align: right;\">\n",
              "      <th></th>\n",
              "      <th>KMO</th>\n",
              "    </tr>\n",
              "  </thead>\n",
              "  <tbody>\n",
              "    <tr>\n",
              "      <th>has_a_bank_account</th>\n",
              "      <td>0.558779</td>\n",
              "    </tr>\n",
              "    <tr>\n",
              "      <th>location_type</th>\n",
              "      <td>0.554620</td>\n",
              "    </tr>\n",
              "    <tr>\n",
              "      <th>has_a_cell_phone</th>\n",
              "      <td>0.683453</td>\n",
              "    </tr>\n",
              "    <tr>\n",
              "      <th>household_size</th>\n",
              "      <td>0.626153</td>\n",
              "    </tr>\n",
              "    <tr>\n",
              "      <th>respondent_age</th>\n",
              "      <td>0.580340</td>\n",
              "    </tr>\n",
              "    <tr>\n",
              "      <th>respondent_gender</th>\n",
              "      <td>0.429381</td>\n",
              "    </tr>\n",
              "    <tr>\n",
              "      <th>relationship_with_head</th>\n",
              "      <td>0.480600</td>\n",
              "    </tr>\n",
              "    <tr>\n",
              "      <th>marital_status</th>\n",
              "      <td>0.535965</td>\n",
              "    </tr>\n",
              "    <tr>\n",
              "      <th>education_level</th>\n",
              "      <td>0.559482</td>\n",
              "    </tr>\n",
              "  </tbody>\n",
              "</table>\n",
              "</div>\n",
              "      <button class=\"colab-df-convert\" onclick=\"convertToInteractive('df-93eceee6-adb9-4a1c-a8ad-5f5f294da1ac')\"\n",
              "              title=\"Convert this dataframe to an interactive table.\"\n",
              "              style=\"display:none;\">\n",
              "        \n",
              "  <svg xmlns=\"http://www.w3.org/2000/svg\" height=\"24px\"viewBox=\"0 0 24 24\"\n",
              "       width=\"24px\">\n",
              "    <path d=\"M0 0h24v24H0V0z\" fill=\"none\"/>\n",
              "    <path d=\"M18.56 5.44l.94 2.06.94-2.06 2.06-.94-2.06-.94-.94-2.06-.94 2.06-2.06.94zm-11 1L8.5 8.5l.94-2.06 2.06-.94-2.06-.94L8.5 2.5l-.94 2.06-2.06.94zm10 10l.94 2.06.94-2.06 2.06-.94-2.06-.94-.94-2.06-.94 2.06-2.06.94z\"/><path d=\"M17.41 7.96l-1.37-1.37c-.4-.4-.92-.59-1.43-.59-.52 0-1.04.2-1.43.59L10.3 9.45l-7.72 7.72c-.78.78-.78 2.05 0 2.83L4 21.41c.39.39.9.59 1.41.59.51 0 1.02-.2 1.41-.59l7.78-7.78 2.81-2.81c.8-.78.8-2.07 0-2.86zM5.41 20L4 18.59l7.72-7.72 1.47 1.35L5.41 20z\"/>\n",
              "  </svg>\n",
              "      </button>\n",
              "      \n",
              "  <style>\n",
              "    .colab-df-container {\n",
              "      display:flex;\n",
              "      flex-wrap:wrap;\n",
              "      gap: 12px;\n",
              "    }\n",
              "\n",
              "    .colab-df-convert {\n",
              "      background-color: #E8F0FE;\n",
              "      border: none;\n",
              "      border-radius: 50%;\n",
              "      cursor: pointer;\n",
              "      display: none;\n",
              "      fill: #1967D2;\n",
              "      height: 32px;\n",
              "      padding: 0 0 0 0;\n",
              "      width: 32px;\n",
              "    }\n",
              "\n",
              "    .colab-df-convert:hover {\n",
              "      background-color: #E2EBFA;\n",
              "      box-shadow: 0px 1px 2px rgba(60, 64, 67, 0.3), 0px 1px 3px 1px rgba(60, 64, 67, 0.15);\n",
              "      fill: #174EA6;\n",
              "    }\n",
              "\n",
              "    [theme=dark] .colab-df-convert {\n",
              "      background-color: #3B4455;\n",
              "      fill: #D2E3FC;\n",
              "    }\n",
              "\n",
              "    [theme=dark] .colab-df-convert:hover {\n",
              "      background-color: #434B5C;\n",
              "      box-shadow: 0px 1px 3px 1px rgba(0, 0, 0, 0.15);\n",
              "      filter: drop-shadow(0px 1px 2px rgba(0, 0, 0, 0.3));\n",
              "      fill: #FFFFFF;\n",
              "    }\n",
              "  </style>\n",
              "\n",
              "      <script>\n",
              "        const buttonEl =\n",
              "          document.querySelector('#df-93eceee6-adb9-4a1c-a8ad-5f5f294da1ac button.colab-df-convert');\n",
              "        buttonEl.style.display =\n",
              "          google.colab.kernel.accessAllowed ? 'block' : 'none';\n",
              "\n",
              "        async function convertToInteractive(key) {\n",
              "          const element = document.querySelector('#df-93eceee6-adb9-4a1c-a8ad-5f5f294da1ac');\n",
              "          const dataTable =\n",
              "            await google.colab.kernel.invokeFunction('convertToInteractive',\n",
              "                                                     [key], {});\n",
              "          if (!dataTable) return;\n",
              "\n",
              "          const docLinkHtml = 'Like what you see? Visit the ' +\n",
              "            '<a target=\"_blank\" href=https://colab.research.google.com/notebooks/data_table.ipynb>data table notebook</a>'\n",
              "            + ' to learn more about interactive tables.';\n",
              "          element.innerHTML = '';\n",
              "          dataTable['output_type'] = 'display_data';\n",
              "          await google.colab.output.renderOutput(dataTable, element);\n",
              "          const docLink = document.createElement('div');\n",
              "          docLink.innerHTML = docLinkHtml;\n",
              "          element.appendChild(docLink);\n",
              "        }\n",
              "      </script>\n",
              "    </div>\n",
              "  </div>\n",
              "  "
            ]
          },
          "metadata": {},
          "execution_count": 71
        }
      ]
    },
    {
      "cell_type": "markdown",
      "metadata": {
        "id": "Muev_AAPVHsB"
      },
      "source": [
        "### Discriminant Analysis"
      ]
    },
    {
      "cell_type": "code",
      "metadata": {
        "id": "WXEc-Je3VKHy"
      },
      "source": [
        "# Dividing data into training and test sets\n",
        "\n",
        "x = bank.iloc[:,1:].values\n",
        "y = bank.iloc[:,0].values\n",
        "\n",
        "x_train, x_test, y_train, y_test = train_test_split(x, y, test_size=0.3, random_state=0)\n",
        "\n",
        "# Feature Scaling \n",
        "\n",
        "sc = StandardScaler()\n",
        "x_train = sc.fit_transform(x_train)\n",
        "x_test = sc.transform(x_test)\n",
        "\n",
        "# Performing LDA\n",
        "\n",
        "from sklearn.discriminant_analysis import LinearDiscriminantAnalysis as LDA\n",
        "\n",
        "lda = LDA(n_components= 2)\n",
        "x_train = lda.fit_transform(x_train, y_train)\n",
        "x_test = lda.transform(x_test)\n",
        "\n",
        "# Training and Making Predictions\n",
        "\n",
        "from sklearn.ensemble import RandomForestClassifier\n",
        "\n",
        "classifier = RandomForestClassifier(max_depth=2, random_state=0)\n",
        "classifier.fit(x_train, y_train)\n",
        "y_pred = classifier.predict(x_test) \n",
        "\n",
        "# Evaluating Performance\n",
        "\n",
        "from sklearn.metrics import confusion_matrix\n",
        "from sklearn.metrics import accuracy_score\n",
        "\n",
        "cm = confusion_matrix(y_test, y_pred)\n",
        "print(cm)\n",
        "print('Accuracy' , accuracy_score(y_test, y_pred))\n",
        "\n",
        "# Linear discriminant, the algorithm achieved an accuracy of 86.52%, > 85.68% of the principal component."
      ],
      "execution_count": null,
      "outputs": []
    },
    {
      "cell_type": "markdown",
      "metadata": {
        "id": "basXtDucD4O6"
      },
      "source": [
        "# Conclusions"
      ]
    },
    {
      "cell_type": "markdown",
      "metadata": {
        "id": "bDXLkSamYws4"
      },
      "source": [
        "> The analysis we have just concluded shows.\n",
        "Persons with cell phones are more likely to have bank accounts with increasing\n",
        "cell phone users we can increase access to banks considerably.\n",
        "\n",
        "Stretch more resources to remote areas to facilitate access to financial services to rural areas who has a significantly large difference of people without bank accounts.\n"
      ]
    },
    {
      "cell_type": "markdown",
      "metadata": {
        "id": "5ywf_9_AbEca"
      },
      "source": [
        "\n",
        "# > Challenging the solution,\n",
        "\n",
        ">*  Did we ask the right questions?\n",
        "Certainly yes for or models did provide us with helpful insights.\n",
        "\n"
      ]
    }
  ]
}